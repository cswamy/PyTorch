{
  "nbformat": 4,
  "nbformat_minor": 0,
  "metadata": {
    "colab": {
      "provenance": [],
      "collapsed_sections": [
        "Sg4Gz0_sTgF3",
        "5oys9xQ5T5a2",
        "hYAMhtcrY9C8",
        "iRmtSxJpAEPQ",
        "OJa-JvrUFoQb",
        "Q9kAkaxwK2vb"
      ],
      "machine_shape": "hm",
      "gpuType": "T4"
    },
    "kernelspec": {
      "name": "python3",
      "display_name": "Python 3"
    },
    "language_info": {
      "name": "python"
    },
    "accelerator": "GPU",
    "widgets": {
      "application/vnd.jupyter.widget-state+json": {
        "8bd7de60e7e54d879cd6bdc87b426c4b": {
          "model_module": "@jupyter-widgets/controls",
          "model_name": "HBoxModel",
          "model_module_version": "1.5.0",
          "state": {
            "_dom_classes": [],
            "_model_module": "@jupyter-widgets/controls",
            "_model_module_version": "1.5.0",
            "_model_name": "HBoxModel",
            "_view_count": null,
            "_view_module": "@jupyter-widgets/controls",
            "_view_module_version": "1.5.0",
            "_view_name": "HBoxView",
            "box_style": "",
            "children": [
              "IPY_MODEL_698adadc95ef497a90a0f2aceb4d14e6",
              "IPY_MODEL_90d303ebf22e4d8a87f9cc84842b423a",
              "IPY_MODEL_ef3e86f246ca4f04a308447e11786e2d"
            ],
            "layout": "IPY_MODEL_60bdfde7668e46b9876091c3e61a8784"
          }
        },
        "698adadc95ef497a90a0f2aceb4d14e6": {
          "model_module": "@jupyter-widgets/controls",
          "model_name": "HTMLModel",
          "model_module_version": "1.5.0",
          "state": {
            "_dom_classes": [],
            "_model_module": "@jupyter-widgets/controls",
            "_model_module_version": "1.5.0",
            "_model_name": "HTMLModel",
            "_view_count": null,
            "_view_module": "@jupyter-widgets/controls",
            "_view_module_version": "1.5.0",
            "_view_name": "HTMLView",
            "description": "",
            "description_tooltip": null,
            "layout": "IPY_MODEL_aa750235c45749a48448630eacc1a5d3",
            "placeholder": "​",
            "style": "IPY_MODEL_61b8962526214275ba10d04fd603c192",
            "value": "Map: 100%"
          }
        },
        "90d303ebf22e4d8a87f9cc84842b423a": {
          "model_module": "@jupyter-widgets/controls",
          "model_name": "FloatProgressModel",
          "model_module_version": "1.5.0",
          "state": {
            "_dom_classes": [],
            "_model_module": "@jupyter-widgets/controls",
            "_model_module_version": "1.5.0",
            "_model_name": "FloatProgressModel",
            "_view_count": null,
            "_view_module": "@jupyter-widgets/controls",
            "_view_module_version": "1.5.0",
            "_view_name": "ProgressView",
            "bar_style": "success",
            "description": "",
            "description_tooltip": null,
            "layout": "IPY_MODEL_e042bdc4859940be82d71690da90f4e5",
            "max": 9672,
            "min": 0,
            "orientation": "horizontal",
            "style": "IPY_MODEL_c5211a0601e84577a4fdbe5ab70a9117",
            "value": 9672
          }
        },
        "ef3e86f246ca4f04a308447e11786e2d": {
          "model_module": "@jupyter-widgets/controls",
          "model_name": "HTMLModel",
          "model_module_version": "1.5.0",
          "state": {
            "_dom_classes": [],
            "_model_module": "@jupyter-widgets/controls",
            "_model_module_version": "1.5.0",
            "_model_name": "HTMLModel",
            "_view_count": null,
            "_view_module": "@jupyter-widgets/controls",
            "_view_module_version": "1.5.0",
            "_view_name": "HTMLView",
            "description": "",
            "description_tooltip": null,
            "layout": "IPY_MODEL_9bc5a53e1b464582806d1d1c24255b2a",
            "placeholder": "​",
            "style": "IPY_MODEL_250150b0d45140f7b8a44b029879fb72",
            "value": " 9672/9672 [00:01&lt;00:00, 9843.28 examples/s]"
          }
        },
        "60bdfde7668e46b9876091c3e61a8784": {
          "model_module": "@jupyter-widgets/base",
          "model_name": "LayoutModel",
          "model_module_version": "1.2.0",
          "state": {
            "_model_module": "@jupyter-widgets/base",
            "_model_module_version": "1.2.0",
            "_model_name": "LayoutModel",
            "_view_count": null,
            "_view_module": "@jupyter-widgets/base",
            "_view_module_version": "1.2.0",
            "_view_name": "LayoutView",
            "align_content": null,
            "align_items": null,
            "align_self": null,
            "border": null,
            "bottom": null,
            "display": null,
            "flex": null,
            "flex_flow": null,
            "grid_area": null,
            "grid_auto_columns": null,
            "grid_auto_flow": null,
            "grid_auto_rows": null,
            "grid_column": null,
            "grid_gap": null,
            "grid_row": null,
            "grid_template_areas": null,
            "grid_template_columns": null,
            "grid_template_rows": null,
            "height": null,
            "justify_content": null,
            "justify_items": null,
            "left": null,
            "margin": null,
            "max_height": null,
            "max_width": null,
            "min_height": null,
            "min_width": null,
            "object_fit": null,
            "object_position": null,
            "order": null,
            "overflow": null,
            "overflow_x": null,
            "overflow_y": null,
            "padding": null,
            "right": null,
            "top": null,
            "visibility": null,
            "width": null
          }
        },
        "aa750235c45749a48448630eacc1a5d3": {
          "model_module": "@jupyter-widgets/base",
          "model_name": "LayoutModel",
          "model_module_version": "1.2.0",
          "state": {
            "_model_module": "@jupyter-widgets/base",
            "_model_module_version": "1.2.0",
            "_model_name": "LayoutModel",
            "_view_count": null,
            "_view_module": "@jupyter-widgets/base",
            "_view_module_version": "1.2.0",
            "_view_name": "LayoutView",
            "align_content": null,
            "align_items": null,
            "align_self": null,
            "border": null,
            "bottom": null,
            "display": null,
            "flex": null,
            "flex_flow": null,
            "grid_area": null,
            "grid_auto_columns": null,
            "grid_auto_flow": null,
            "grid_auto_rows": null,
            "grid_column": null,
            "grid_gap": null,
            "grid_row": null,
            "grid_template_areas": null,
            "grid_template_columns": null,
            "grid_template_rows": null,
            "height": null,
            "justify_content": null,
            "justify_items": null,
            "left": null,
            "margin": null,
            "max_height": null,
            "max_width": null,
            "min_height": null,
            "min_width": null,
            "object_fit": null,
            "object_position": null,
            "order": null,
            "overflow": null,
            "overflow_x": null,
            "overflow_y": null,
            "padding": null,
            "right": null,
            "top": null,
            "visibility": null,
            "width": null
          }
        },
        "61b8962526214275ba10d04fd603c192": {
          "model_module": "@jupyter-widgets/controls",
          "model_name": "DescriptionStyleModel",
          "model_module_version": "1.5.0",
          "state": {
            "_model_module": "@jupyter-widgets/controls",
            "_model_module_version": "1.5.0",
            "_model_name": "DescriptionStyleModel",
            "_view_count": null,
            "_view_module": "@jupyter-widgets/base",
            "_view_module_version": "1.2.0",
            "_view_name": "StyleView",
            "description_width": ""
          }
        },
        "e042bdc4859940be82d71690da90f4e5": {
          "model_module": "@jupyter-widgets/base",
          "model_name": "LayoutModel",
          "model_module_version": "1.2.0",
          "state": {
            "_model_module": "@jupyter-widgets/base",
            "_model_module_version": "1.2.0",
            "_model_name": "LayoutModel",
            "_view_count": null,
            "_view_module": "@jupyter-widgets/base",
            "_view_module_version": "1.2.0",
            "_view_name": "LayoutView",
            "align_content": null,
            "align_items": null,
            "align_self": null,
            "border": null,
            "bottom": null,
            "display": null,
            "flex": null,
            "flex_flow": null,
            "grid_area": null,
            "grid_auto_columns": null,
            "grid_auto_flow": null,
            "grid_auto_rows": null,
            "grid_column": null,
            "grid_gap": null,
            "grid_row": null,
            "grid_template_areas": null,
            "grid_template_columns": null,
            "grid_template_rows": null,
            "height": null,
            "justify_content": null,
            "justify_items": null,
            "left": null,
            "margin": null,
            "max_height": null,
            "max_width": null,
            "min_height": null,
            "min_width": null,
            "object_fit": null,
            "object_position": null,
            "order": null,
            "overflow": null,
            "overflow_x": null,
            "overflow_y": null,
            "padding": null,
            "right": null,
            "top": null,
            "visibility": null,
            "width": null
          }
        },
        "c5211a0601e84577a4fdbe5ab70a9117": {
          "model_module": "@jupyter-widgets/controls",
          "model_name": "ProgressStyleModel",
          "model_module_version": "1.5.0",
          "state": {
            "_model_module": "@jupyter-widgets/controls",
            "_model_module_version": "1.5.0",
            "_model_name": "ProgressStyleModel",
            "_view_count": null,
            "_view_module": "@jupyter-widgets/base",
            "_view_module_version": "1.2.0",
            "_view_name": "StyleView",
            "bar_color": null,
            "description_width": ""
          }
        },
        "9bc5a53e1b464582806d1d1c24255b2a": {
          "model_module": "@jupyter-widgets/base",
          "model_name": "LayoutModel",
          "model_module_version": "1.2.0",
          "state": {
            "_model_module": "@jupyter-widgets/base",
            "_model_module_version": "1.2.0",
            "_model_name": "LayoutModel",
            "_view_count": null,
            "_view_module": "@jupyter-widgets/base",
            "_view_module_version": "1.2.0",
            "_view_name": "LayoutView",
            "align_content": null,
            "align_items": null,
            "align_self": null,
            "border": null,
            "bottom": null,
            "display": null,
            "flex": null,
            "flex_flow": null,
            "grid_area": null,
            "grid_auto_columns": null,
            "grid_auto_flow": null,
            "grid_auto_rows": null,
            "grid_column": null,
            "grid_gap": null,
            "grid_row": null,
            "grid_template_areas": null,
            "grid_template_columns": null,
            "grid_template_rows": null,
            "height": null,
            "justify_content": null,
            "justify_items": null,
            "left": null,
            "margin": null,
            "max_height": null,
            "max_width": null,
            "min_height": null,
            "min_width": null,
            "object_fit": null,
            "object_position": null,
            "order": null,
            "overflow": null,
            "overflow_x": null,
            "overflow_y": null,
            "padding": null,
            "right": null,
            "top": null,
            "visibility": null,
            "width": null
          }
        },
        "250150b0d45140f7b8a44b029879fb72": {
          "model_module": "@jupyter-widgets/controls",
          "model_name": "DescriptionStyleModel",
          "model_module_version": "1.5.0",
          "state": {
            "_model_module": "@jupyter-widgets/controls",
            "_model_module_version": "1.5.0",
            "_model_name": "DescriptionStyleModel",
            "_view_count": null,
            "_view_module": "@jupyter-widgets/base",
            "_view_module_version": "1.2.0",
            "_view_name": "StyleView",
            "description_width": ""
          }
        },
        "2ad08cac803f47028aaaa1a1b3935a71": {
          "model_module": "@jupyter-widgets/controls",
          "model_name": "HBoxModel",
          "model_module_version": "1.5.0",
          "state": {
            "_dom_classes": [],
            "_model_module": "@jupyter-widgets/controls",
            "_model_module_version": "1.5.0",
            "_model_name": "HBoxModel",
            "_view_count": null,
            "_view_module": "@jupyter-widgets/controls",
            "_view_module_version": "1.5.0",
            "_view_name": "HBoxView",
            "box_style": "",
            "children": [
              "IPY_MODEL_bb15f542dcac49c5800909531ec2862e",
              "IPY_MODEL_1126009f1e1d44eab0b4dbd3423d95af",
              "IPY_MODEL_ec044269c19b466eae0545ef06056eab"
            ],
            "layout": "IPY_MODEL_32e9782c8f9a4017987edbf1898ce5fe"
          }
        },
        "bb15f542dcac49c5800909531ec2862e": {
          "model_module": "@jupyter-widgets/controls",
          "model_name": "HTMLModel",
          "model_module_version": "1.5.0",
          "state": {
            "_dom_classes": [],
            "_model_module": "@jupyter-widgets/controls",
            "_model_module_version": "1.5.0",
            "_model_name": "HTMLModel",
            "_view_count": null,
            "_view_module": "@jupyter-widgets/controls",
            "_view_module_version": "1.5.0",
            "_view_name": "HTMLView",
            "description": "",
            "description_tooltip": null,
            "layout": "IPY_MODEL_6ad4e0be8cca4f19b2edbeba6ac5f2ff",
            "placeholder": "​",
            "style": "IPY_MODEL_a06a4306d4e446adb040261041516d22",
            "value": "Map: 100%"
          }
        },
        "1126009f1e1d44eab0b4dbd3423d95af": {
          "model_module": "@jupyter-widgets/controls",
          "model_name": "FloatProgressModel",
          "model_module_version": "1.5.0",
          "state": {
            "_dom_classes": [],
            "_model_module": "@jupyter-widgets/controls",
            "_model_module_version": "1.5.0",
            "_model_name": "FloatProgressModel",
            "_view_count": null,
            "_view_module": "@jupyter-widgets/controls",
            "_view_module_version": "1.5.0",
            "_view_name": "ProgressView",
            "bar_style": "success",
            "description": "",
            "description_tooltip": null,
            "layout": "IPY_MODEL_0d2e5f7899f84f8eb1031faba34babb3",
            "max": 238,
            "min": 0,
            "orientation": "horizontal",
            "style": "IPY_MODEL_cf9c20f5ee834b4ba0ef9b7f756a0643",
            "value": 238
          }
        },
        "ec044269c19b466eae0545ef06056eab": {
          "model_module": "@jupyter-widgets/controls",
          "model_name": "HTMLModel",
          "model_module_version": "1.5.0",
          "state": {
            "_dom_classes": [],
            "_model_module": "@jupyter-widgets/controls",
            "_model_module_version": "1.5.0",
            "_model_name": "HTMLModel",
            "_view_count": null,
            "_view_module": "@jupyter-widgets/controls",
            "_view_module_version": "1.5.0",
            "_view_name": "HTMLView",
            "description": "",
            "description_tooltip": null,
            "layout": "IPY_MODEL_1063ed338a5f4fd69c08f29f4feb95f9",
            "placeholder": "​",
            "style": "IPY_MODEL_bfe6643939d14df7b8c8c64d662e3ff4",
            "value": " 238/238 [00:00&lt;00:00, 5418.79 examples/s]"
          }
        },
        "32e9782c8f9a4017987edbf1898ce5fe": {
          "model_module": "@jupyter-widgets/base",
          "model_name": "LayoutModel",
          "model_module_version": "1.2.0",
          "state": {
            "_model_module": "@jupyter-widgets/base",
            "_model_module_version": "1.2.0",
            "_model_name": "LayoutModel",
            "_view_count": null,
            "_view_module": "@jupyter-widgets/base",
            "_view_module_version": "1.2.0",
            "_view_name": "LayoutView",
            "align_content": null,
            "align_items": null,
            "align_self": null,
            "border": null,
            "bottom": null,
            "display": null,
            "flex": null,
            "flex_flow": null,
            "grid_area": null,
            "grid_auto_columns": null,
            "grid_auto_flow": null,
            "grid_auto_rows": null,
            "grid_column": null,
            "grid_gap": null,
            "grid_row": null,
            "grid_template_areas": null,
            "grid_template_columns": null,
            "grid_template_rows": null,
            "height": null,
            "justify_content": null,
            "justify_items": null,
            "left": null,
            "margin": null,
            "max_height": null,
            "max_width": null,
            "min_height": null,
            "min_width": null,
            "object_fit": null,
            "object_position": null,
            "order": null,
            "overflow": null,
            "overflow_x": null,
            "overflow_y": null,
            "padding": null,
            "right": null,
            "top": null,
            "visibility": null,
            "width": null
          }
        },
        "6ad4e0be8cca4f19b2edbeba6ac5f2ff": {
          "model_module": "@jupyter-widgets/base",
          "model_name": "LayoutModel",
          "model_module_version": "1.2.0",
          "state": {
            "_model_module": "@jupyter-widgets/base",
            "_model_module_version": "1.2.0",
            "_model_name": "LayoutModel",
            "_view_count": null,
            "_view_module": "@jupyter-widgets/base",
            "_view_module_version": "1.2.0",
            "_view_name": "LayoutView",
            "align_content": null,
            "align_items": null,
            "align_self": null,
            "border": null,
            "bottom": null,
            "display": null,
            "flex": null,
            "flex_flow": null,
            "grid_area": null,
            "grid_auto_columns": null,
            "grid_auto_flow": null,
            "grid_auto_rows": null,
            "grid_column": null,
            "grid_gap": null,
            "grid_row": null,
            "grid_template_areas": null,
            "grid_template_columns": null,
            "grid_template_rows": null,
            "height": null,
            "justify_content": null,
            "justify_items": null,
            "left": null,
            "margin": null,
            "max_height": null,
            "max_width": null,
            "min_height": null,
            "min_width": null,
            "object_fit": null,
            "object_position": null,
            "order": null,
            "overflow": null,
            "overflow_x": null,
            "overflow_y": null,
            "padding": null,
            "right": null,
            "top": null,
            "visibility": null,
            "width": null
          }
        },
        "a06a4306d4e446adb040261041516d22": {
          "model_module": "@jupyter-widgets/controls",
          "model_name": "DescriptionStyleModel",
          "model_module_version": "1.5.0",
          "state": {
            "_model_module": "@jupyter-widgets/controls",
            "_model_module_version": "1.5.0",
            "_model_name": "DescriptionStyleModel",
            "_view_count": null,
            "_view_module": "@jupyter-widgets/base",
            "_view_module_version": "1.2.0",
            "_view_name": "StyleView",
            "description_width": ""
          }
        },
        "0d2e5f7899f84f8eb1031faba34babb3": {
          "model_module": "@jupyter-widgets/base",
          "model_name": "LayoutModel",
          "model_module_version": "1.2.0",
          "state": {
            "_model_module": "@jupyter-widgets/base",
            "_model_module_version": "1.2.0",
            "_model_name": "LayoutModel",
            "_view_count": null,
            "_view_module": "@jupyter-widgets/base",
            "_view_module_version": "1.2.0",
            "_view_name": "LayoutView",
            "align_content": null,
            "align_items": null,
            "align_self": null,
            "border": null,
            "bottom": null,
            "display": null,
            "flex": null,
            "flex_flow": null,
            "grid_area": null,
            "grid_auto_columns": null,
            "grid_auto_flow": null,
            "grid_auto_rows": null,
            "grid_column": null,
            "grid_gap": null,
            "grid_row": null,
            "grid_template_areas": null,
            "grid_template_columns": null,
            "grid_template_rows": null,
            "height": null,
            "justify_content": null,
            "justify_items": null,
            "left": null,
            "margin": null,
            "max_height": null,
            "max_width": null,
            "min_height": null,
            "min_width": null,
            "object_fit": null,
            "object_position": null,
            "order": null,
            "overflow": null,
            "overflow_x": null,
            "overflow_y": null,
            "padding": null,
            "right": null,
            "top": null,
            "visibility": null,
            "width": null
          }
        },
        "cf9c20f5ee834b4ba0ef9b7f756a0643": {
          "model_module": "@jupyter-widgets/controls",
          "model_name": "ProgressStyleModel",
          "model_module_version": "1.5.0",
          "state": {
            "_model_module": "@jupyter-widgets/controls",
            "_model_module_version": "1.5.0",
            "_model_name": "ProgressStyleModel",
            "_view_count": null,
            "_view_module": "@jupyter-widgets/base",
            "_view_module_version": "1.2.0",
            "_view_name": "StyleView",
            "bar_color": null,
            "description_width": ""
          }
        },
        "1063ed338a5f4fd69c08f29f4feb95f9": {
          "model_module": "@jupyter-widgets/base",
          "model_name": "LayoutModel",
          "model_module_version": "1.2.0",
          "state": {
            "_model_module": "@jupyter-widgets/base",
            "_model_module_version": "1.2.0",
            "_model_name": "LayoutModel",
            "_view_count": null,
            "_view_module": "@jupyter-widgets/base",
            "_view_module_version": "1.2.0",
            "_view_name": "LayoutView",
            "align_content": null,
            "align_items": null,
            "align_self": null,
            "border": null,
            "bottom": null,
            "display": null,
            "flex": null,
            "flex_flow": null,
            "grid_area": null,
            "grid_auto_columns": null,
            "grid_auto_flow": null,
            "grid_auto_rows": null,
            "grid_column": null,
            "grid_gap": null,
            "grid_row": null,
            "grid_template_areas": null,
            "grid_template_columns": null,
            "grid_template_rows": null,
            "height": null,
            "justify_content": null,
            "justify_items": null,
            "left": null,
            "margin": null,
            "max_height": null,
            "max_width": null,
            "min_height": null,
            "min_width": null,
            "object_fit": null,
            "object_position": null,
            "order": null,
            "overflow": null,
            "overflow_x": null,
            "overflow_y": null,
            "padding": null,
            "right": null,
            "top": null,
            "visibility": null,
            "width": null
          }
        },
        "bfe6643939d14df7b8c8c64d662e3ff4": {
          "model_module": "@jupyter-widgets/controls",
          "model_name": "DescriptionStyleModel",
          "model_module_version": "1.5.0",
          "state": {
            "_model_module": "@jupyter-widgets/controls",
            "_model_module_version": "1.5.0",
            "_model_name": "DescriptionStyleModel",
            "_view_count": null,
            "_view_module": "@jupyter-widgets/base",
            "_view_module_version": "1.2.0",
            "_view_name": "StyleView",
            "description_width": ""
          }
        },
        "b57c2a189d4b4b76bc64a1e76a5e504f": {
          "model_module": "@jupyter-widgets/controls",
          "model_name": "HBoxModel",
          "model_module_version": "1.5.0",
          "state": {
            "_dom_classes": [],
            "_model_module": "@jupyter-widgets/controls",
            "_model_module_version": "1.5.0",
            "_model_name": "HBoxModel",
            "_view_count": null,
            "_view_module": "@jupyter-widgets/controls",
            "_view_module_version": "1.5.0",
            "_view_name": "HBoxView",
            "box_style": "",
            "children": [
              "IPY_MODEL_ab384a92396b45ba91ea6e1d2f92744d",
              "IPY_MODEL_ae2a5e2883644ddab948521a2a213b12",
              "IPY_MODEL_efae94644c9548a5817b1d5b81fb93cf"
            ],
            "layout": "IPY_MODEL_dc65cc0f5de14227ba335ca864c20f12"
          }
        },
        "ab384a92396b45ba91ea6e1d2f92744d": {
          "model_module": "@jupyter-widgets/controls",
          "model_name": "HTMLModel",
          "model_module_version": "1.5.0",
          "state": {
            "_dom_classes": [],
            "_model_module": "@jupyter-widgets/controls",
            "_model_module_version": "1.5.0",
            "_model_name": "HTMLModel",
            "_view_count": null,
            "_view_module": "@jupyter-widgets/controls",
            "_view_module_version": "1.5.0",
            "_view_name": "HTMLView",
            "description": "",
            "description_tooltip": null,
            "layout": "IPY_MODEL_5791486ee0a04622a2453c954fb45b84",
            "placeholder": "​",
            "style": "IPY_MODEL_cec73715c93e432a8b5b9b99fedcf1b4",
            "value": "Map: 100%"
          }
        },
        "ae2a5e2883644ddab948521a2a213b12": {
          "model_module": "@jupyter-widgets/controls",
          "model_name": "FloatProgressModel",
          "model_module_version": "1.5.0",
          "state": {
            "_dom_classes": [],
            "_model_module": "@jupyter-widgets/controls",
            "_model_module_version": "1.5.0",
            "_model_name": "FloatProgressModel",
            "_view_count": null,
            "_view_module": "@jupyter-widgets/controls",
            "_view_module_version": "1.5.0",
            "_view_name": "ProgressView",
            "bar_style": "success",
            "description": "",
            "description_tooltip": null,
            "layout": "IPY_MODEL_e9315801c49446f0839777912e092a60",
            "max": 245,
            "min": 0,
            "orientation": "horizontal",
            "style": "IPY_MODEL_58f8a537dc234d879d92b0b76b254606",
            "value": 245
          }
        },
        "efae94644c9548a5817b1d5b81fb93cf": {
          "model_module": "@jupyter-widgets/controls",
          "model_name": "HTMLModel",
          "model_module_version": "1.5.0",
          "state": {
            "_dom_classes": [],
            "_model_module": "@jupyter-widgets/controls",
            "_model_module_version": "1.5.0",
            "_model_name": "HTMLModel",
            "_view_count": null,
            "_view_module": "@jupyter-widgets/controls",
            "_view_module_version": "1.5.0",
            "_view_name": "HTMLView",
            "description": "",
            "description_tooltip": null,
            "layout": "IPY_MODEL_b199aaf03f634836bfe478d93c8a936b",
            "placeholder": "​",
            "style": "IPY_MODEL_c390f0be3dc2408bb7fe11cac0924acd",
            "value": " 245/245 [00:00&lt;00:00, 5197.67 examples/s]"
          }
        },
        "dc65cc0f5de14227ba335ca864c20f12": {
          "model_module": "@jupyter-widgets/base",
          "model_name": "LayoutModel",
          "model_module_version": "1.2.0",
          "state": {
            "_model_module": "@jupyter-widgets/base",
            "_model_module_version": "1.2.0",
            "_model_name": "LayoutModel",
            "_view_count": null,
            "_view_module": "@jupyter-widgets/base",
            "_view_module_version": "1.2.0",
            "_view_name": "LayoutView",
            "align_content": null,
            "align_items": null,
            "align_self": null,
            "border": null,
            "bottom": null,
            "display": null,
            "flex": null,
            "flex_flow": null,
            "grid_area": null,
            "grid_auto_columns": null,
            "grid_auto_flow": null,
            "grid_auto_rows": null,
            "grid_column": null,
            "grid_gap": null,
            "grid_row": null,
            "grid_template_areas": null,
            "grid_template_columns": null,
            "grid_template_rows": null,
            "height": null,
            "justify_content": null,
            "justify_items": null,
            "left": null,
            "margin": null,
            "max_height": null,
            "max_width": null,
            "min_height": null,
            "min_width": null,
            "object_fit": null,
            "object_position": null,
            "order": null,
            "overflow": null,
            "overflow_x": null,
            "overflow_y": null,
            "padding": null,
            "right": null,
            "top": null,
            "visibility": null,
            "width": null
          }
        },
        "5791486ee0a04622a2453c954fb45b84": {
          "model_module": "@jupyter-widgets/base",
          "model_name": "LayoutModel",
          "model_module_version": "1.2.0",
          "state": {
            "_model_module": "@jupyter-widgets/base",
            "_model_module_version": "1.2.0",
            "_model_name": "LayoutModel",
            "_view_count": null,
            "_view_module": "@jupyter-widgets/base",
            "_view_module_version": "1.2.0",
            "_view_name": "LayoutView",
            "align_content": null,
            "align_items": null,
            "align_self": null,
            "border": null,
            "bottom": null,
            "display": null,
            "flex": null,
            "flex_flow": null,
            "grid_area": null,
            "grid_auto_columns": null,
            "grid_auto_flow": null,
            "grid_auto_rows": null,
            "grid_column": null,
            "grid_gap": null,
            "grid_row": null,
            "grid_template_areas": null,
            "grid_template_columns": null,
            "grid_template_rows": null,
            "height": null,
            "justify_content": null,
            "justify_items": null,
            "left": null,
            "margin": null,
            "max_height": null,
            "max_width": null,
            "min_height": null,
            "min_width": null,
            "object_fit": null,
            "object_position": null,
            "order": null,
            "overflow": null,
            "overflow_x": null,
            "overflow_y": null,
            "padding": null,
            "right": null,
            "top": null,
            "visibility": null,
            "width": null
          }
        },
        "cec73715c93e432a8b5b9b99fedcf1b4": {
          "model_module": "@jupyter-widgets/controls",
          "model_name": "DescriptionStyleModel",
          "model_module_version": "1.5.0",
          "state": {
            "_model_module": "@jupyter-widgets/controls",
            "_model_module_version": "1.5.0",
            "_model_name": "DescriptionStyleModel",
            "_view_count": null,
            "_view_module": "@jupyter-widgets/base",
            "_view_module_version": "1.2.0",
            "_view_name": "StyleView",
            "description_width": ""
          }
        },
        "e9315801c49446f0839777912e092a60": {
          "model_module": "@jupyter-widgets/base",
          "model_name": "LayoutModel",
          "model_module_version": "1.2.0",
          "state": {
            "_model_module": "@jupyter-widgets/base",
            "_model_module_version": "1.2.0",
            "_model_name": "LayoutModel",
            "_view_count": null,
            "_view_module": "@jupyter-widgets/base",
            "_view_module_version": "1.2.0",
            "_view_name": "LayoutView",
            "align_content": null,
            "align_items": null,
            "align_self": null,
            "border": null,
            "bottom": null,
            "display": null,
            "flex": null,
            "flex_flow": null,
            "grid_area": null,
            "grid_auto_columns": null,
            "grid_auto_flow": null,
            "grid_auto_rows": null,
            "grid_column": null,
            "grid_gap": null,
            "grid_row": null,
            "grid_template_areas": null,
            "grid_template_columns": null,
            "grid_template_rows": null,
            "height": null,
            "justify_content": null,
            "justify_items": null,
            "left": null,
            "margin": null,
            "max_height": null,
            "max_width": null,
            "min_height": null,
            "min_width": null,
            "object_fit": null,
            "object_position": null,
            "order": null,
            "overflow": null,
            "overflow_x": null,
            "overflow_y": null,
            "padding": null,
            "right": null,
            "top": null,
            "visibility": null,
            "width": null
          }
        },
        "58f8a537dc234d879d92b0b76b254606": {
          "model_module": "@jupyter-widgets/controls",
          "model_name": "ProgressStyleModel",
          "model_module_version": "1.5.0",
          "state": {
            "_model_module": "@jupyter-widgets/controls",
            "_model_module_version": "1.5.0",
            "_model_name": "ProgressStyleModel",
            "_view_count": null,
            "_view_module": "@jupyter-widgets/base",
            "_view_module_version": "1.2.0",
            "_view_name": "StyleView",
            "bar_color": null,
            "description_width": ""
          }
        },
        "b199aaf03f634836bfe478d93c8a936b": {
          "model_module": "@jupyter-widgets/base",
          "model_name": "LayoutModel",
          "model_module_version": "1.2.0",
          "state": {
            "_model_module": "@jupyter-widgets/base",
            "_model_module_version": "1.2.0",
            "_model_name": "LayoutModel",
            "_view_count": null,
            "_view_module": "@jupyter-widgets/base",
            "_view_module_version": "1.2.0",
            "_view_name": "LayoutView",
            "align_content": null,
            "align_items": null,
            "align_self": null,
            "border": null,
            "bottom": null,
            "display": null,
            "flex": null,
            "flex_flow": null,
            "grid_area": null,
            "grid_auto_columns": null,
            "grid_auto_flow": null,
            "grid_auto_rows": null,
            "grid_column": null,
            "grid_gap": null,
            "grid_row": null,
            "grid_template_areas": null,
            "grid_template_columns": null,
            "grid_template_rows": null,
            "height": null,
            "justify_content": null,
            "justify_items": null,
            "left": null,
            "margin": null,
            "max_height": null,
            "max_width": null,
            "min_height": null,
            "min_width": null,
            "object_fit": null,
            "object_position": null,
            "order": null,
            "overflow": null,
            "overflow_x": null,
            "overflow_y": null,
            "padding": null,
            "right": null,
            "top": null,
            "visibility": null,
            "width": null
          }
        },
        "c390f0be3dc2408bb7fe11cac0924acd": {
          "model_module": "@jupyter-widgets/controls",
          "model_name": "DescriptionStyleModel",
          "model_module_version": "1.5.0",
          "state": {
            "_model_module": "@jupyter-widgets/controls",
            "_model_module_version": "1.5.0",
            "_model_name": "DescriptionStyleModel",
            "_view_count": null,
            "_view_module": "@jupyter-widgets/base",
            "_view_module_version": "1.2.0",
            "_view_name": "StyleView",
            "description_width": ""
          }
        },
        "a378961a1c01432b8a6c17d89506cb2b": {
          "model_module": "@jupyter-widgets/controls",
          "model_name": "HBoxModel",
          "model_module_version": "1.5.0",
          "state": {
            "_dom_classes": [],
            "_model_module": "@jupyter-widgets/controls",
            "_model_module_version": "1.5.0",
            "_model_name": "HBoxModel",
            "_view_count": null,
            "_view_module": "@jupyter-widgets/controls",
            "_view_module_version": "1.5.0",
            "_view_name": "HBoxView",
            "box_style": "",
            "children": [
              "IPY_MODEL_bbb07fbd4ed84f6fa3a10e14aa776ccb",
              "IPY_MODEL_b9d6a6abfb6e47cda850f11bd0334e97",
              "IPY_MODEL_75b1adb7280d42f6a2d6ccad5f9ce2d2"
            ],
            "layout": "IPY_MODEL_4f4f866832064b91b46f61703ae49413"
          }
        },
        "bbb07fbd4ed84f6fa3a10e14aa776ccb": {
          "model_module": "@jupyter-widgets/controls",
          "model_name": "HTMLModel",
          "model_module_version": "1.5.0",
          "state": {
            "_dom_classes": [],
            "_model_module": "@jupyter-widgets/controls",
            "_model_module_version": "1.5.0",
            "_model_name": "HTMLModel",
            "_view_count": null,
            "_view_module": "@jupyter-widgets/controls",
            "_view_module_version": "1.5.0",
            "_view_name": "HTMLView",
            "description": "",
            "description_tooltip": null,
            "layout": "IPY_MODEL_ca1211da9e9e45489b81d27ca708f265",
            "placeholder": "​",
            "style": "IPY_MODEL_aa6148fbf4924b55b23258b88bb9d5d4",
            "value": "Downloading pytorch_model.bin: 100%"
          }
        },
        "b9d6a6abfb6e47cda850f11bd0334e97": {
          "model_module": "@jupyter-widgets/controls",
          "model_name": "FloatProgressModel",
          "model_module_version": "1.5.0",
          "state": {
            "_dom_classes": [],
            "_model_module": "@jupyter-widgets/controls",
            "_model_module_version": "1.5.0",
            "_model_name": "FloatProgressModel",
            "_view_count": null,
            "_view_module": "@jupyter-widgets/controls",
            "_view_module_version": "1.5.0",
            "_view_name": "ProgressView",
            "bar_style": "success",
            "description": "",
            "description_tooltip": null,
            "layout": "IPY_MODEL_d81b209ec4874ba484c730e1d8c7460b",
            "max": 1200794589,
            "min": 0,
            "orientation": "horizontal",
            "style": "IPY_MODEL_5ebedf8103c9418a989667c4a3556ba4",
            "value": 1200794589
          }
        },
        "75b1adb7280d42f6a2d6ccad5f9ce2d2": {
          "model_module": "@jupyter-widgets/controls",
          "model_name": "HTMLModel",
          "model_module_version": "1.5.0",
          "state": {
            "_dom_classes": [],
            "_model_module": "@jupyter-widgets/controls",
            "_model_module_version": "1.5.0",
            "_model_name": "HTMLModel",
            "_view_count": null,
            "_view_module": "@jupyter-widgets/controls",
            "_view_module_version": "1.5.0",
            "_view_name": "HTMLView",
            "description": "",
            "description_tooltip": null,
            "layout": "IPY_MODEL_79a85805c8af4c38a68244c7c29d3086",
            "placeholder": "​",
            "style": "IPY_MODEL_7d13d65d2a4b4064ba976e6bebe4cfa5",
            "value": " 1.20G/1.20G [01:01&lt;00:00, 19.8MB/s]"
          }
        },
        "4f4f866832064b91b46f61703ae49413": {
          "model_module": "@jupyter-widgets/base",
          "model_name": "LayoutModel",
          "model_module_version": "1.2.0",
          "state": {
            "_model_module": "@jupyter-widgets/base",
            "_model_module_version": "1.2.0",
            "_model_name": "LayoutModel",
            "_view_count": null,
            "_view_module": "@jupyter-widgets/base",
            "_view_module_version": "1.2.0",
            "_view_name": "LayoutView",
            "align_content": null,
            "align_items": null,
            "align_self": null,
            "border": null,
            "bottom": null,
            "display": null,
            "flex": null,
            "flex_flow": null,
            "grid_area": null,
            "grid_auto_columns": null,
            "grid_auto_flow": null,
            "grid_auto_rows": null,
            "grid_column": null,
            "grid_gap": null,
            "grid_row": null,
            "grid_template_areas": null,
            "grid_template_columns": null,
            "grid_template_rows": null,
            "height": null,
            "justify_content": null,
            "justify_items": null,
            "left": null,
            "margin": null,
            "max_height": null,
            "max_width": null,
            "min_height": null,
            "min_width": null,
            "object_fit": null,
            "object_position": null,
            "order": null,
            "overflow": null,
            "overflow_x": null,
            "overflow_y": null,
            "padding": null,
            "right": null,
            "top": null,
            "visibility": null,
            "width": null
          }
        },
        "ca1211da9e9e45489b81d27ca708f265": {
          "model_module": "@jupyter-widgets/base",
          "model_name": "LayoutModel",
          "model_module_version": "1.2.0",
          "state": {
            "_model_module": "@jupyter-widgets/base",
            "_model_module_version": "1.2.0",
            "_model_name": "LayoutModel",
            "_view_count": null,
            "_view_module": "@jupyter-widgets/base",
            "_view_module_version": "1.2.0",
            "_view_name": "LayoutView",
            "align_content": null,
            "align_items": null,
            "align_self": null,
            "border": null,
            "bottom": null,
            "display": null,
            "flex": null,
            "flex_flow": null,
            "grid_area": null,
            "grid_auto_columns": null,
            "grid_auto_flow": null,
            "grid_auto_rows": null,
            "grid_column": null,
            "grid_gap": null,
            "grid_row": null,
            "grid_template_areas": null,
            "grid_template_columns": null,
            "grid_template_rows": null,
            "height": null,
            "justify_content": null,
            "justify_items": null,
            "left": null,
            "margin": null,
            "max_height": null,
            "max_width": null,
            "min_height": null,
            "min_width": null,
            "object_fit": null,
            "object_position": null,
            "order": null,
            "overflow": null,
            "overflow_x": null,
            "overflow_y": null,
            "padding": null,
            "right": null,
            "top": null,
            "visibility": null,
            "width": null
          }
        },
        "aa6148fbf4924b55b23258b88bb9d5d4": {
          "model_module": "@jupyter-widgets/controls",
          "model_name": "DescriptionStyleModel",
          "model_module_version": "1.5.0",
          "state": {
            "_model_module": "@jupyter-widgets/controls",
            "_model_module_version": "1.5.0",
            "_model_name": "DescriptionStyleModel",
            "_view_count": null,
            "_view_module": "@jupyter-widgets/base",
            "_view_module_version": "1.2.0",
            "_view_name": "StyleView",
            "description_width": ""
          }
        },
        "d81b209ec4874ba484c730e1d8c7460b": {
          "model_module": "@jupyter-widgets/base",
          "model_name": "LayoutModel",
          "model_module_version": "1.2.0",
          "state": {
            "_model_module": "@jupyter-widgets/base",
            "_model_module_version": "1.2.0",
            "_model_name": "LayoutModel",
            "_view_count": null,
            "_view_module": "@jupyter-widgets/base",
            "_view_module_version": "1.2.0",
            "_view_name": "LayoutView",
            "align_content": null,
            "align_items": null,
            "align_self": null,
            "border": null,
            "bottom": null,
            "display": null,
            "flex": null,
            "flex_flow": null,
            "grid_area": null,
            "grid_auto_columns": null,
            "grid_auto_flow": null,
            "grid_auto_rows": null,
            "grid_column": null,
            "grid_gap": null,
            "grid_row": null,
            "grid_template_areas": null,
            "grid_template_columns": null,
            "grid_template_rows": null,
            "height": null,
            "justify_content": null,
            "justify_items": null,
            "left": null,
            "margin": null,
            "max_height": null,
            "max_width": null,
            "min_height": null,
            "min_width": null,
            "object_fit": null,
            "object_position": null,
            "order": null,
            "overflow": null,
            "overflow_x": null,
            "overflow_y": null,
            "padding": null,
            "right": null,
            "top": null,
            "visibility": null,
            "width": null
          }
        },
        "5ebedf8103c9418a989667c4a3556ba4": {
          "model_module": "@jupyter-widgets/controls",
          "model_name": "ProgressStyleModel",
          "model_module_version": "1.5.0",
          "state": {
            "_model_module": "@jupyter-widgets/controls",
            "_model_module_version": "1.5.0",
            "_model_name": "ProgressStyleModel",
            "_view_count": null,
            "_view_module": "@jupyter-widgets/base",
            "_view_module_version": "1.2.0",
            "_view_name": "StyleView",
            "bar_color": null,
            "description_width": ""
          }
        },
        "79a85805c8af4c38a68244c7c29d3086": {
          "model_module": "@jupyter-widgets/base",
          "model_name": "LayoutModel",
          "model_module_version": "1.2.0",
          "state": {
            "_model_module": "@jupyter-widgets/base",
            "_model_module_version": "1.2.0",
            "_model_name": "LayoutModel",
            "_view_count": null,
            "_view_module": "@jupyter-widgets/base",
            "_view_module_version": "1.2.0",
            "_view_name": "LayoutView",
            "align_content": null,
            "align_items": null,
            "align_self": null,
            "border": null,
            "bottom": null,
            "display": null,
            "flex": null,
            "flex_flow": null,
            "grid_area": null,
            "grid_auto_columns": null,
            "grid_auto_flow": null,
            "grid_auto_rows": null,
            "grid_column": null,
            "grid_gap": null,
            "grid_row": null,
            "grid_template_areas": null,
            "grid_template_columns": null,
            "grid_template_rows": null,
            "height": null,
            "justify_content": null,
            "justify_items": null,
            "left": null,
            "margin": null,
            "max_height": null,
            "max_width": null,
            "min_height": null,
            "min_width": null,
            "object_fit": null,
            "object_position": null,
            "order": null,
            "overflow": null,
            "overflow_x": null,
            "overflow_y": null,
            "padding": null,
            "right": null,
            "top": null,
            "visibility": null,
            "width": null
          }
        },
        "7d13d65d2a4b4064ba976e6bebe4cfa5": {
          "model_module": "@jupyter-widgets/controls",
          "model_name": "DescriptionStyleModel",
          "model_module_version": "1.5.0",
          "state": {
            "_model_module": "@jupyter-widgets/controls",
            "_model_module_version": "1.5.0",
            "_model_name": "DescriptionStyleModel",
            "_view_count": null,
            "_view_module": "@jupyter-widgets/base",
            "_view_module_version": "1.2.0",
            "_view_name": "StyleView",
            "description_width": ""
          }
        },
        "f92f830e4e98435ea953907bcfdecd16": {
          "model_module": "@jupyter-widgets/controls",
          "model_name": "HBoxModel",
          "model_module_version": "1.5.0",
          "state": {
            "_dom_classes": [],
            "_model_module": "@jupyter-widgets/controls",
            "_model_module_version": "1.5.0",
            "_model_name": "HBoxModel",
            "_view_count": null,
            "_view_module": "@jupyter-widgets/controls",
            "_view_module_version": "1.5.0",
            "_view_name": "HBoxView",
            "box_style": "",
            "children": [
              "IPY_MODEL_cfafa2f1d85645c390153e70bcfe947d",
              "IPY_MODEL_f5c5aacdd7c54282a23bf695d9132afe",
              "IPY_MODEL_1384a05cb21d498193f043e7643dbada"
            ],
            "layout": "IPY_MODEL_24b94afac4e5485b8418ebb9fbbfe835"
          }
        },
        "cfafa2f1d85645c390153e70bcfe947d": {
          "model_module": "@jupyter-widgets/controls",
          "model_name": "HTMLModel",
          "model_module_version": "1.5.0",
          "state": {
            "_dom_classes": [],
            "_model_module": "@jupyter-widgets/controls",
            "_model_module_version": "1.5.0",
            "_model_name": "HTMLModel",
            "_view_count": null,
            "_view_module": "@jupyter-widgets/controls",
            "_view_module_version": "1.5.0",
            "_view_name": "HTMLView",
            "description": "",
            "description_tooltip": null,
            "layout": "IPY_MODEL_67f3d17f0e644434a9dafcf4a4e07c29",
            "placeholder": "​",
            "style": "IPY_MODEL_df3c35daa8e44a529371dd7f3fe3b7eb",
            "value": "Downloading (…)neration_config.json: 100%"
          }
        },
        "f5c5aacdd7c54282a23bf695d9132afe": {
          "model_module": "@jupyter-widgets/controls",
          "model_name": "FloatProgressModel",
          "model_module_version": "1.5.0",
          "state": {
            "_dom_classes": [],
            "_model_module": "@jupyter-widgets/controls",
            "_model_module_version": "1.5.0",
            "_model_name": "FloatProgressModel",
            "_view_count": null,
            "_view_module": "@jupyter-widgets/controls",
            "_view_module_version": "1.5.0",
            "_view_name": "ProgressView",
            "bar_style": "success",
            "description": "",
            "description_tooltip": null,
            "layout": "IPY_MODEL_40b4f978f2644d93b77b8395966deed2",
            "max": 147,
            "min": 0,
            "orientation": "horizontal",
            "style": "IPY_MODEL_64f749e4843841b585ca24dea3ed6354",
            "value": 147
          }
        },
        "1384a05cb21d498193f043e7643dbada": {
          "model_module": "@jupyter-widgets/controls",
          "model_name": "HTMLModel",
          "model_module_version": "1.5.0",
          "state": {
            "_dom_classes": [],
            "_model_module": "@jupyter-widgets/controls",
            "_model_module_version": "1.5.0",
            "_model_name": "HTMLModel",
            "_view_count": null,
            "_view_module": "@jupyter-widgets/controls",
            "_view_module_version": "1.5.0",
            "_view_name": "HTMLView",
            "description": "",
            "description_tooltip": null,
            "layout": "IPY_MODEL_b8b9ed92c6d14b5dbd456b18977e6264",
            "placeholder": "​",
            "style": "IPY_MODEL_a314a1eaaf4e46df9c327911f3f309af",
            "value": " 147/147 [00:00&lt;00:00, 11.9kB/s]"
          }
        },
        "24b94afac4e5485b8418ebb9fbbfe835": {
          "model_module": "@jupyter-widgets/base",
          "model_name": "LayoutModel",
          "model_module_version": "1.2.0",
          "state": {
            "_model_module": "@jupyter-widgets/base",
            "_model_module_version": "1.2.0",
            "_model_name": "LayoutModel",
            "_view_count": null,
            "_view_module": "@jupyter-widgets/base",
            "_view_module_version": "1.2.0",
            "_view_name": "LayoutView",
            "align_content": null,
            "align_items": null,
            "align_self": null,
            "border": null,
            "bottom": null,
            "display": null,
            "flex": null,
            "flex_flow": null,
            "grid_area": null,
            "grid_auto_columns": null,
            "grid_auto_flow": null,
            "grid_auto_rows": null,
            "grid_column": null,
            "grid_gap": null,
            "grid_row": null,
            "grid_template_areas": null,
            "grid_template_columns": null,
            "grid_template_rows": null,
            "height": null,
            "justify_content": null,
            "justify_items": null,
            "left": null,
            "margin": null,
            "max_height": null,
            "max_width": null,
            "min_height": null,
            "min_width": null,
            "object_fit": null,
            "object_position": null,
            "order": null,
            "overflow": null,
            "overflow_x": null,
            "overflow_y": null,
            "padding": null,
            "right": null,
            "top": null,
            "visibility": null,
            "width": null
          }
        },
        "67f3d17f0e644434a9dafcf4a4e07c29": {
          "model_module": "@jupyter-widgets/base",
          "model_name": "LayoutModel",
          "model_module_version": "1.2.0",
          "state": {
            "_model_module": "@jupyter-widgets/base",
            "_model_module_version": "1.2.0",
            "_model_name": "LayoutModel",
            "_view_count": null,
            "_view_module": "@jupyter-widgets/base",
            "_view_module_version": "1.2.0",
            "_view_name": "LayoutView",
            "align_content": null,
            "align_items": null,
            "align_self": null,
            "border": null,
            "bottom": null,
            "display": null,
            "flex": null,
            "flex_flow": null,
            "grid_area": null,
            "grid_auto_columns": null,
            "grid_auto_flow": null,
            "grid_auto_rows": null,
            "grid_column": null,
            "grid_gap": null,
            "grid_row": null,
            "grid_template_areas": null,
            "grid_template_columns": null,
            "grid_template_rows": null,
            "height": null,
            "justify_content": null,
            "justify_items": null,
            "left": null,
            "margin": null,
            "max_height": null,
            "max_width": null,
            "min_height": null,
            "min_width": null,
            "object_fit": null,
            "object_position": null,
            "order": null,
            "overflow": null,
            "overflow_x": null,
            "overflow_y": null,
            "padding": null,
            "right": null,
            "top": null,
            "visibility": null,
            "width": null
          }
        },
        "df3c35daa8e44a529371dd7f3fe3b7eb": {
          "model_module": "@jupyter-widgets/controls",
          "model_name": "DescriptionStyleModel",
          "model_module_version": "1.5.0",
          "state": {
            "_model_module": "@jupyter-widgets/controls",
            "_model_module_version": "1.5.0",
            "_model_name": "DescriptionStyleModel",
            "_view_count": null,
            "_view_module": "@jupyter-widgets/base",
            "_view_module_version": "1.2.0",
            "_view_name": "StyleView",
            "description_width": ""
          }
        },
        "40b4f978f2644d93b77b8395966deed2": {
          "model_module": "@jupyter-widgets/base",
          "model_name": "LayoutModel",
          "model_module_version": "1.2.0",
          "state": {
            "_model_module": "@jupyter-widgets/base",
            "_model_module_version": "1.2.0",
            "_model_name": "LayoutModel",
            "_view_count": null,
            "_view_module": "@jupyter-widgets/base",
            "_view_module_version": "1.2.0",
            "_view_name": "LayoutView",
            "align_content": null,
            "align_items": null,
            "align_self": null,
            "border": null,
            "bottom": null,
            "display": null,
            "flex": null,
            "flex_flow": null,
            "grid_area": null,
            "grid_auto_columns": null,
            "grid_auto_flow": null,
            "grid_auto_rows": null,
            "grid_column": null,
            "grid_gap": null,
            "grid_row": null,
            "grid_template_areas": null,
            "grid_template_columns": null,
            "grid_template_rows": null,
            "height": null,
            "justify_content": null,
            "justify_items": null,
            "left": null,
            "margin": null,
            "max_height": null,
            "max_width": null,
            "min_height": null,
            "min_width": null,
            "object_fit": null,
            "object_position": null,
            "order": null,
            "overflow": null,
            "overflow_x": null,
            "overflow_y": null,
            "padding": null,
            "right": null,
            "top": null,
            "visibility": null,
            "width": null
          }
        },
        "64f749e4843841b585ca24dea3ed6354": {
          "model_module": "@jupyter-widgets/controls",
          "model_name": "ProgressStyleModel",
          "model_module_version": "1.5.0",
          "state": {
            "_model_module": "@jupyter-widgets/controls",
            "_model_module_version": "1.5.0",
            "_model_name": "ProgressStyleModel",
            "_view_count": null,
            "_view_module": "@jupyter-widgets/base",
            "_view_module_version": "1.2.0",
            "_view_name": "StyleView",
            "bar_color": null,
            "description_width": ""
          }
        },
        "b8b9ed92c6d14b5dbd456b18977e6264": {
          "model_module": "@jupyter-widgets/base",
          "model_name": "LayoutModel",
          "model_module_version": "1.2.0",
          "state": {
            "_model_module": "@jupyter-widgets/base",
            "_model_module_version": "1.2.0",
            "_model_name": "LayoutModel",
            "_view_count": null,
            "_view_module": "@jupyter-widgets/base",
            "_view_module_version": "1.2.0",
            "_view_name": "LayoutView",
            "align_content": null,
            "align_items": null,
            "align_self": null,
            "border": null,
            "bottom": null,
            "display": null,
            "flex": null,
            "flex_flow": null,
            "grid_area": null,
            "grid_auto_columns": null,
            "grid_auto_flow": null,
            "grid_auto_rows": null,
            "grid_column": null,
            "grid_gap": null,
            "grid_row": null,
            "grid_template_areas": null,
            "grid_template_columns": null,
            "grid_template_rows": null,
            "height": null,
            "justify_content": null,
            "justify_items": null,
            "left": null,
            "margin": null,
            "max_height": null,
            "max_width": null,
            "min_height": null,
            "min_width": null,
            "object_fit": null,
            "object_position": null,
            "order": null,
            "overflow": null,
            "overflow_x": null,
            "overflow_y": null,
            "padding": null,
            "right": null,
            "top": null,
            "visibility": null,
            "width": null
          }
        },
        "a314a1eaaf4e46df9c327911f3f309af": {
          "model_module": "@jupyter-widgets/controls",
          "model_name": "DescriptionStyleModel",
          "model_module_version": "1.5.0",
          "state": {
            "_model_module": "@jupyter-widgets/controls",
            "_model_module_version": "1.5.0",
            "_model_name": "DescriptionStyleModel",
            "_view_count": null,
            "_view_module": "@jupyter-widgets/base",
            "_view_module_version": "1.2.0",
            "_view_name": "StyleView",
            "description_width": ""
          }
        },
        "df7e10a33ee34f38a5fabc85576e5a2f": {
          "model_module": "@jupyter-widgets/controls",
          "model_name": "HBoxModel",
          "model_module_version": "1.5.0",
          "state": {
            "_dom_classes": [],
            "_model_module": "@jupyter-widgets/controls",
            "_model_module_version": "1.5.0",
            "_model_name": "HBoxModel",
            "_view_count": null,
            "_view_module": "@jupyter-widgets/controls",
            "_view_module_version": "1.5.0",
            "_view_name": "HBoxView",
            "box_style": "",
            "children": [
              "IPY_MODEL_f1374b8981004c0ab43a7255a44cd909",
              "IPY_MODEL_c444fd69727a4fc99ac42ff141d42089",
              "IPY_MODEL_a8e090da710c42bcbed129f53025c4cf"
            ],
            "layout": "IPY_MODEL_09d53ed739704db297824f4faf2abc48"
          }
        },
        "f1374b8981004c0ab43a7255a44cd909": {
          "model_module": "@jupyter-widgets/controls",
          "model_name": "HTMLModel",
          "model_module_version": "1.5.0",
          "state": {
            "_dom_classes": [],
            "_model_module": "@jupyter-widgets/controls",
            "_model_module_version": "1.5.0",
            "_model_name": "HTMLModel",
            "_view_count": null,
            "_view_module": "@jupyter-widgets/controls",
            "_view_module_version": "1.5.0",
            "_view_name": "HTMLView",
            "description": "",
            "description_tooltip": null,
            "layout": "IPY_MODEL_20ccf326311d4028b096a1ae9a8f8c87",
            "placeholder": "​",
            "style": "IPY_MODEL_8e1905b693614343b5bce6369c90ba46",
            "value": "100%"
          }
        },
        "c444fd69727a4fc99ac42ff141d42089": {
          "model_module": "@jupyter-widgets/controls",
          "model_name": "FloatProgressModel",
          "model_module_version": "1.5.0",
          "state": {
            "_dom_classes": [],
            "_model_module": "@jupyter-widgets/controls",
            "_model_module_version": "1.5.0",
            "_model_name": "FloatProgressModel",
            "_view_count": null,
            "_view_module": "@jupyter-widgets/controls",
            "_view_module_version": "1.5.0",
            "_view_name": "ProgressView",
            "bar_style": "success",
            "description": "",
            "description_tooltip": null,
            "layout": "IPY_MODEL_624540dddc204d6a887b3191003d5432",
            "max": 8,
            "min": 0,
            "orientation": "horizontal",
            "style": "IPY_MODEL_fc6503a4397946b090945cbadbd8b82b",
            "value": 8
          }
        },
        "a8e090da710c42bcbed129f53025c4cf": {
          "model_module": "@jupyter-widgets/controls",
          "model_name": "HTMLModel",
          "model_module_version": "1.5.0",
          "state": {
            "_dom_classes": [],
            "_model_module": "@jupyter-widgets/controls",
            "_model_module_version": "1.5.0",
            "_model_name": "HTMLModel",
            "_view_count": null,
            "_view_module": "@jupyter-widgets/controls",
            "_view_module_version": "1.5.0",
            "_view_name": "HTMLView",
            "description": "",
            "description_tooltip": null,
            "layout": "IPY_MODEL_3698b91c26f4481da92d5a8d12f48992",
            "placeholder": "​",
            "style": "IPY_MODEL_7cdff3e16b7b40e0a11768457f183e21",
            "value": " 8/8 [38:34&lt;00:00, 290.13s/it]"
          }
        },
        "09d53ed739704db297824f4faf2abc48": {
          "model_module": "@jupyter-widgets/base",
          "model_name": "LayoutModel",
          "model_module_version": "1.2.0",
          "state": {
            "_model_module": "@jupyter-widgets/base",
            "_model_module_version": "1.2.0",
            "_model_name": "LayoutModel",
            "_view_count": null,
            "_view_module": "@jupyter-widgets/base",
            "_view_module_version": "1.2.0",
            "_view_name": "LayoutView",
            "align_content": null,
            "align_items": null,
            "align_self": null,
            "border": null,
            "bottom": null,
            "display": null,
            "flex": null,
            "flex_flow": null,
            "grid_area": null,
            "grid_auto_columns": null,
            "grid_auto_flow": null,
            "grid_auto_rows": null,
            "grid_column": null,
            "grid_gap": null,
            "grid_row": null,
            "grid_template_areas": null,
            "grid_template_columns": null,
            "grid_template_rows": null,
            "height": null,
            "justify_content": null,
            "justify_items": null,
            "left": null,
            "margin": null,
            "max_height": null,
            "max_width": null,
            "min_height": null,
            "min_width": null,
            "object_fit": null,
            "object_position": null,
            "order": null,
            "overflow": null,
            "overflow_x": null,
            "overflow_y": null,
            "padding": null,
            "right": null,
            "top": null,
            "visibility": null,
            "width": null
          }
        },
        "20ccf326311d4028b096a1ae9a8f8c87": {
          "model_module": "@jupyter-widgets/base",
          "model_name": "LayoutModel",
          "model_module_version": "1.2.0",
          "state": {
            "_model_module": "@jupyter-widgets/base",
            "_model_module_version": "1.2.0",
            "_model_name": "LayoutModel",
            "_view_count": null,
            "_view_module": "@jupyter-widgets/base",
            "_view_module_version": "1.2.0",
            "_view_name": "LayoutView",
            "align_content": null,
            "align_items": null,
            "align_self": null,
            "border": null,
            "bottom": null,
            "display": null,
            "flex": null,
            "flex_flow": null,
            "grid_area": null,
            "grid_auto_columns": null,
            "grid_auto_flow": null,
            "grid_auto_rows": null,
            "grid_column": null,
            "grid_gap": null,
            "grid_row": null,
            "grid_template_areas": null,
            "grid_template_columns": null,
            "grid_template_rows": null,
            "height": null,
            "justify_content": null,
            "justify_items": null,
            "left": null,
            "margin": null,
            "max_height": null,
            "max_width": null,
            "min_height": null,
            "min_width": null,
            "object_fit": null,
            "object_position": null,
            "order": null,
            "overflow": null,
            "overflow_x": null,
            "overflow_y": null,
            "padding": null,
            "right": null,
            "top": null,
            "visibility": null,
            "width": null
          }
        },
        "8e1905b693614343b5bce6369c90ba46": {
          "model_module": "@jupyter-widgets/controls",
          "model_name": "DescriptionStyleModel",
          "model_module_version": "1.5.0",
          "state": {
            "_model_module": "@jupyter-widgets/controls",
            "_model_module_version": "1.5.0",
            "_model_name": "DescriptionStyleModel",
            "_view_count": null,
            "_view_module": "@jupyter-widgets/base",
            "_view_module_version": "1.2.0",
            "_view_name": "StyleView",
            "description_width": ""
          }
        },
        "624540dddc204d6a887b3191003d5432": {
          "model_module": "@jupyter-widgets/base",
          "model_name": "LayoutModel",
          "model_module_version": "1.2.0",
          "state": {
            "_model_module": "@jupyter-widgets/base",
            "_model_module_version": "1.2.0",
            "_model_name": "LayoutModel",
            "_view_count": null,
            "_view_module": "@jupyter-widgets/base",
            "_view_module_version": "1.2.0",
            "_view_name": "LayoutView",
            "align_content": null,
            "align_items": null,
            "align_self": null,
            "border": null,
            "bottom": null,
            "display": null,
            "flex": null,
            "flex_flow": null,
            "grid_area": null,
            "grid_auto_columns": null,
            "grid_auto_flow": null,
            "grid_auto_rows": null,
            "grid_column": null,
            "grid_gap": null,
            "grid_row": null,
            "grid_template_areas": null,
            "grid_template_columns": null,
            "grid_template_rows": null,
            "height": null,
            "justify_content": null,
            "justify_items": null,
            "left": null,
            "margin": null,
            "max_height": null,
            "max_width": null,
            "min_height": null,
            "min_width": null,
            "object_fit": null,
            "object_position": null,
            "order": null,
            "overflow": null,
            "overflow_x": null,
            "overflow_y": null,
            "padding": null,
            "right": null,
            "top": null,
            "visibility": null,
            "width": null
          }
        },
        "fc6503a4397946b090945cbadbd8b82b": {
          "model_module": "@jupyter-widgets/controls",
          "model_name": "ProgressStyleModel",
          "model_module_version": "1.5.0",
          "state": {
            "_model_module": "@jupyter-widgets/controls",
            "_model_module_version": "1.5.0",
            "_model_name": "ProgressStyleModel",
            "_view_count": null,
            "_view_module": "@jupyter-widgets/base",
            "_view_module_version": "1.2.0",
            "_view_name": "StyleView",
            "bar_color": null,
            "description_width": ""
          }
        },
        "3698b91c26f4481da92d5a8d12f48992": {
          "model_module": "@jupyter-widgets/base",
          "model_name": "LayoutModel",
          "model_module_version": "1.2.0",
          "state": {
            "_model_module": "@jupyter-widgets/base",
            "_model_module_version": "1.2.0",
            "_model_name": "LayoutModel",
            "_view_count": null,
            "_view_module": "@jupyter-widgets/base",
            "_view_module_version": "1.2.0",
            "_view_name": "LayoutView",
            "align_content": null,
            "align_items": null,
            "align_self": null,
            "border": null,
            "bottom": null,
            "display": null,
            "flex": null,
            "flex_flow": null,
            "grid_area": null,
            "grid_auto_columns": null,
            "grid_auto_flow": null,
            "grid_auto_rows": null,
            "grid_column": null,
            "grid_gap": null,
            "grid_row": null,
            "grid_template_areas": null,
            "grid_template_columns": null,
            "grid_template_rows": null,
            "height": null,
            "justify_content": null,
            "justify_items": null,
            "left": null,
            "margin": null,
            "max_height": null,
            "max_width": null,
            "min_height": null,
            "min_width": null,
            "object_fit": null,
            "object_position": null,
            "order": null,
            "overflow": null,
            "overflow_x": null,
            "overflow_y": null,
            "padding": null,
            "right": null,
            "top": null,
            "visibility": null,
            "width": null
          }
        },
        "7cdff3e16b7b40e0a11768457f183e21": {
          "model_module": "@jupyter-widgets/controls",
          "model_name": "DescriptionStyleModel",
          "model_module_version": "1.5.0",
          "state": {
            "_model_module": "@jupyter-widgets/controls",
            "_model_module_version": "1.5.0",
            "_model_name": "DescriptionStyleModel",
            "_view_count": null,
            "_view_module": "@jupyter-widgets/base",
            "_view_module_version": "1.2.0",
            "_view_name": "StyleView",
            "description_width": ""
          }
        }
      }
    }
  },
  "cells": [
    {
      "cell_type": "markdown",
      "source": [
        "<a target=\"_blank\" href=\"https://colab.research.google.com/github/cswamy/pytorch/blob/main/notebooks/Summarization_finetuned_mt5_amznreviews.ipynb\">\n",
        "  <img src=\"https://colab.research.google.com/assets/colab-badge.svg\" alt=\"Open In Colab\"/>\n",
        "</a>"
      ],
      "metadata": {
        "id": "qlRS2c5aFFR-"
      }
    },
    {
      "cell_type": "markdown",
      "source": [
        "### **Notes**\n",
        "\n",
        "Notebook to finetune a Mt5-small model for summarization in English and Spanish. Trained using the Amazon reviews dataset for books and digital books categories.\n",
        "\n",
        "App: https://huggingface.co/spaces/cswamy/summarization_en_and_es_text\n",
        "\n",
        "Resources:\n",
        "\n",
        "Hugging face checkpoint: https://huggingface.co/google/mt5-small\n",
        "\n",
        "Original MT5 paper: https://arxiv.org/abs/2010.11934\n",
        "\n",
        "KDE4 dataset: https://huggingface.co/datasets/amazon_reviews_multi\n",
        "\n",
        "Inspired by hugging face tutorial: https://huggingface.co/learn/nlp-course/chapter7/5?fw=pt"
      ],
      "metadata": {
        "id": "NYUT__bs3AS6"
      }
    },
    {
      "cell_type": "markdown",
      "source": [
        "### **Setup**"
      ],
      "metadata": {
        "id": "Sg4Gz0_sTgF3"
      }
    },
    {
      "cell_type": "code",
      "execution_count": 1,
      "metadata": {
        "colab": {
          "base_uri": "https://localhost:8080/",
          "height": 0
        },
        "id": "QtJnR3FdTMzF",
        "outputId": "47b72644-fbb5-46f7-a115-323d3836cb6f"
      },
      "outputs": [
        {
          "output_type": "execute_result",
          "data": {
            "text/plain": [
              "'cuda'"
            ],
            "application/vnd.google.colaboratory.intrinsic+json": {
              "type": "string"
            }
          },
          "metadata": {},
          "execution_count": 1
        }
      ],
      "source": [
        "import torch\n",
        "\n",
        "device = 'cuda' if torch.cuda.is_available() else 'cpu'\n",
        "device"
      ]
    },
    {
      "cell_type": "code",
      "source": [
        "try:\n",
        "  import transformers\n",
        "  print(\"[INFO] Hugging face transformers imported successfully!\")\n",
        "except:\n",
        "  !pip install -q transformers\n",
        "  import transformers\n",
        "  print(\"[INFO] Hugging face transformers installed and imported successfully!\")"
      ],
      "metadata": {
        "colab": {
          "base_uri": "https://localhost:8080/"
        },
        "id": "LkqgKgR8TqOb",
        "outputId": "46d5fbb7-9339-46d2-9c91-dba6f97cb861"
      },
      "execution_count": 2,
      "outputs": [
        {
          "output_type": "stream",
          "name": "stdout",
          "text": [
            "[INFO] Hugging face transformers imported successfully!\n"
          ]
        }
      ]
    },
    {
      "cell_type": "code",
      "source": [
        "try:\n",
        "  import datasets\n",
        "  print(\"[INFO] Hugging face datasets imported successfully!\")\n",
        "except:\n",
        "  !pip install -q datasets\n",
        "  import datasets\n",
        "  print(\"[INFO] Hugging face datasets installed and imported successfully!\")"
      ],
      "metadata": {
        "colab": {
          "base_uri": "https://localhost:8080/"
        },
        "id": "uCUuDrsLTzth",
        "outputId": "57b64e6a-b184-48bb-ea08-9d6d7a72f105"
      },
      "execution_count": 3,
      "outputs": [
        {
          "output_type": "stream",
          "name": "stdout",
          "text": [
            "[INFO] Hugging face datasets imported successfully!\n"
          ]
        }
      ]
    },
    {
      "cell_type": "markdown",
      "source": [
        "### **Download dataset**"
      ],
      "metadata": {
        "id": "5oys9xQ5T5a2"
      }
    },
    {
      "cell_type": "code",
      "source": [
        "from datasets import load_dataset\n",
        "\n",
        "spanish_dataset = load_dataset('amazon_reviews_multi', 'es')\n",
        "english_dataset = load_dataset('amazon_reviews_multi', 'en')"
      ],
      "metadata": {
        "id": "DRrrjMlWT7d6"
      },
      "execution_count": 4,
      "outputs": []
    },
    {
      "cell_type": "code",
      "source": [
        "english_dataset"
      ],
      "metadata": {
        "colab": {
          "base_uri": "https://localhost:8080/"
        },
        "id": "W_dTjMBKUyNg",
        "outputId": "d5157908-a475-4e02-a5da-0c589166eb96"
      },
      "execution_count": 5,
      "outputs": [
        {
          "output_type": "execute_result",
          "data": {
            "text/plain": [
              "DatasetDict({\n",
              "    train: Dataset({\n",
              "        features: ['review_id', 'product_id', 'reviewer_id', 'stars', 'review_body', 'review_title', 'language', 'product_category'],\n",
              "        num_rows: 200000\n",
              "    })\n",
              "    validation: Dataset({\n",
              "        features: ['review_id', 'product_id', 'reviewer_id', 'stars', 'review_body', 'review_title', 'language', 'product_category'],\n",
              "        num_rows: 5000\n",
              "    })\n",
              "    test: Dataset({\n",
              "        features: ['review_id', 'product_id', 'reviewer_id', 'stars', 'review_body', 'review_title', 'language', 'product_category'],\n",
              "        num_rows: 5000\n",
              "    })\n",
              "})"
            ]
          },
          "metadata": {},
          "execution_count": 5
        }
      ]
    },
    {
      "cell_type": "markdown",
      "source": [
        "### **Prep datasets**"
      ],
      "metadata": {
        "id": "hYAMhtcrY9C8"
      }
    },
    {
      "cell_type": "code",
      "source": [
        "# Check number of reviews per product category\n",
        "reviews_per_category = {}\n",
        "for sample in english_dataset['train']:\n",
        "  category = sample['product_category']\n",
        "  if category in reviews_per_category.keys():\n",
        "    reviews_per_category[category] += 1\n",
        "  else:\n",
        "    reviews_per_category[category] = 1\n",
        "\n",
        "reviews_per_category"
      ],
      "metadata": {
        "colab": {
          "base_uri": "https://localhost:8080/"
        },
        "id": "uew9o69vU4l5",
        "outputId": "0cb895bd-18d7-425f-b2fc-18f4f017c346"
      },
      "execution_count": 6,
      "outputs": [
        {
          "output_type": "execute_result",
          "data": {
            "text/plain": [
              "{'furniture': 2984,\n",
              " 'home_improvement': 7136,\n",
              " 'home': 17679,\n",
              " 'wireless': 15717,\n",
              " 'pc': 6401,\n",
              " 'industrial_supplies': 1994,\n",
              " 'kitchen': 10382,\n",
              " 'apparel': 15951,\n",
              " 'automotive': 7506,\n",
              " 'camera': 2139,\n",
              " 'lawn_and_garden': 7327,\n",
              " 'watch': 761,\n",
              " 'beauty': 12091,\n",
              " 'pet_products': 7082,\n",
              " 'drugstore': 11730,\n",
              " 'electronics': 6186,\n",
              " 'toy': 8745,\n",
              " 'digital_ebook_purchase': 6749,\n",
              " 'book': 3756,\n",
              " 'jewelry': 2747,\n",
              " 'sports': 8277,\n",
              " 'other': 13418,\n",
              " 'baby_product': 3150,\n",
              " 'video_games': 775,\n",
              " 'office_product': 5521,\n",
              " 'grocery': 4730,\n",
              " 'digital_video_download': 1364,\n",
              " 'luggage': 1328,\n",
              " 'shoes': 5197,\n",
              " 'musical_instruments': 1102,\n",
              " 'personal_care_appliances': 75}"
            ]
          },
          "metadata": {},
          "execution_count": 6
        }
      ]
    },
    {
      "cell_type": "code",
      "source": [
        "# Define function to filter books and digital ebook categories only\n",
        "def filter_books(example):\n",
        "  return(\n",
        "      example['product_category'] == 'book' or\n",
        "      example['product_category'] == 'digital_ebook_purchase'\n",
        "  )"
      ],
      "metadata": {
        "id": "-kOjED0iZJep"
      },
      "execution_count": 7,
      "outputs": []
    },
    {
      "cell_type": "code",
      "source": [
        "# Get data subsets\n",
        "english_books = english_dataset.filter(filter_books)\n",
        "spanish_books = spanish_dataset.filter(filter_books)"
      ],
      "metadata": {
        "id": "mEG1VuhmbBz9"
      },
      "execution_count": 8,
      "outputs": []
    },
    {
      "cell_type": "code",
      "source": [
        "english_books"
      ],
      "metadata": {
        "colab": {
          "base_uri": "https://localhost:8080/"
        },
        "id": "At-4LZuObQ09",
        "outputId": "eb86c2ba-2f87-4957-835e-186a9613cd69"
      },
      "execution_count": 9,
      "outputs": [
        {
          "output_type": "execute_result",
          "data": {
            "text/plain": [
              "DatasetDict({\n",
              "    train: Dataset({\n",
              "        features: ['review_id', 'product_id', 'reviewer_id', 'stars', 'review_body', 'review_title', 'language', 'product_category'],\n",
              "        num_rows: 10505\n",
              "    })\n",
              "    validation: Dataset({\n",
              "        features: ['review_id', 'product_id', 'reviewer_id', 'stars', 'review_body', 'review_title', 'language', 'product_category'],\n",
              "        num_rows: 231\n",
              "    })\n",
              "    test: Dataset({\n",
              "        features: ['review_id', 'product_id', 'reviewer_id', 'stars', 'review_body', 'review_title', 'language', 'product_category'],\n",
              "        num_rows: 278\n",
              "    })\n",
              "})"
            ]
          },
          "metadata": {},
          "execution_count": 9
        }
      ]
    },
    {
      "cell_type": "code",
      "source": [
        "# Concatenate datasets into one DatasetDict\n",
        "from datasets import concatenate_datasets, DatasetDict\n",
        "\n",
        "books_dataset = DatasetDict()\n",
        "\n",
        "for split in english_books.keys():\n",
        "  books_dataset[split] = concatenate_datasets(\n",
        "      [english_books[split], spanish_books[split]]\n",
        "  )\n",
        "  books_dataset[split] = books_dataset[split].shuffle(seed=42)\n",
        "\n",
        "books_dataset['train'][:5]['review_body']"
      ],
      "metadata": {
        "colab": {
          "base_uri": "https://localhost:8080/"
        },
        "id": "fsCR5pn0bajq",
        "outputId": "50b893f2-60e2-4ac1-d116-96af844b7114"
      },
      "execution_count": 10,
      "outputs": [
        {
          "output_type": "execute_result",
          "data": {
            "text/plain": [
              "[\"I gave it 4 stars because I felt the beginning chapter was a bit uneven, but as I got into the story, it gripped me. The characters, location, and the twists kept me reading well into the night. After posting this review, I'm going back to purchase the next book in the series.\",\n",
              " 'Good book to read for business students',\n",
              " 'Enjoyable read will more than likely purchase other books by this author.',\n",
              " 'No está mal, pero más para niños de 9 años',\n",
              " 'I grew up reading Koontz, and years ago, I stopped,convinced i had \"outgrown\" him. Still,when a friend was looking for something suspenseful too read, I suggested Koontz. She found Strangers. The excitement art how good it was startled me. I was sure i had recommended something else. I ordered a copy for myself. This was a great reintroduction to an old favorite writer -- a novel full of fully developed characters that are totally relatable. People you could care about with full back stories. A mystery that had to be solved. I expected it to be the book I read every few weeks, only on flights. Instead, I\\'ve ignored everything and everybody to finish this. Definitely a must read.']"
            ]
          },
          "metadata": {},
          "execution_count": 10
        }
      ]
    },
    {
      "cell_type": "code",
      "source": [
        "# Filter out reviews with less than 2 words in title\n",
        "books_dataset = books_dataset.filter(lambda x: len(x['review_title'].split()) > 2)\n",
        "books_dataset"
      ],
      "metadata": {
        "colab": {
          "base_uri": "https://localhost:8080/"
        },
        "id": "Yhw0QhYEdbDk",
        "outputId": "cdd9e099-1289-4777-ac5c-fd38e2099e42"
      },
      "execution_count": 11,
      "outputs": [
        {
          "output_type": "execute_result",
          "data": {
            "text/plain": [
              "DatasetDict({\n",
              "    train: Dataset({\n",
              "        features: ['review_id', 'product_id', 'reviewer_id', 'stars', 'review_body', 'review_title', 'language', 'product_category'],\n",
              "        num_rows: 9672\n",
              "    })\n",
              "    validation: Dataset({\n",
              "        features: ['review_id', 'product_id', 'reviewer_id', 'stars', 'review_body', 'review_title', 'language', 'product_category'],\n",
              "        num_rows: 238\n",
              "    })\n",
              "    test: Dataset({\n",
              "        features: ['review_id', 'product_id', 'reviewer_id', 'stars', 'review_body', 'review_title', 'language', 'product_category'],\n",
              "        num_rows: 245\n",
              "    })\n",
              "})"
            ]
          },
          "metadata": {},
          "execution_count": 11
        }
      ]
    },
    {
      "cell_type": "markdown",
      "source": [
        "### **Tokenize data**"
      ],
      "metadata": {
        "id": "6LyGVO2zkSAn"
      }
    },
    {
      "cell_type": "code",
      "source": [
        "try:\n",
        "  import sentencepiece\n",
        "  print(\"[INFO] Sentencepiece imported successfully!\")\n",
        "except:\n",
        "  !pip install -q sentencepiece\n",
        "  import sentencepiece\n",
        "  print(\"[INFO] Sentencepiece installed and imported successfully!\")"
      ],
      "metadata": {
        "colab": {
          "base_uri": "https://localhost:8080/"
        },
        "id": "c0RCWnSikpqx",
        "outputId": "9390f888-4bf0-464e-94a4-cdc6dfd33756"
      },
      "execution_count": 12,
      "outputs": [
        {
          "output_type": "stream",
          "name": "stdout",
          "text": [
            "[INFO] Sentencepiece imported successfully!\n"
          ]
        }
      ]
    },
    {
      "cell_type": "code",
      "source": [
        "from transformers import AutoTokenizer\n",
        "\n",
        "checkpoint = 'google/mt5-small'\n",
        "tokenizer = AutoTokenizer.from_pretrained(checkpoint)"
      ],
      "metadata": {
        "colab": {
          "base_uri": "https://localhost:8080/"
        },
        "id": "l7g0LV3tkUUB",
        "outputId": "cf41bbab-e1d1-4e2c-f681-8399f4e543ac"
      },
      "execution_count": 13,
      "outputs": [
        {
          "output_type": "stream",
          "name": "stderr",
          "text": [
            "You are using the default legacy behaviour of the <class 'transformers.models.t5.tokenization_t5.T5Tokenizer'>. If you see this, DO NOT PANIC! This is expected, and simply means that the `legacy` (previous) behavior will be used so nothing changes for you. If you want to use the new behaviour, set `legacy=False`. This should only be set if you understand what it means, and thouroughly read the reason why this was added as explained in https://github.com/huggingface/transformers/pull/24565\n",
            "/usr/local/lib/python3.10/dist-packages/transformers/convert_slow_tokenizer.py:473: UserWarning: The sentencepiece tokenizer that you are converting to a fast tokenizer uses the byte fallback option which is not implemented in the fast tokenizers. In practice this means that the fast version of the tokenizer can produce unknown tokens whereas the sentencepiece version would have converted these unknown tokens into a sequence of byte tokens matching the original piece of text.\n",
            "  warnings.warn(\n"
          ]
        }
      ]
    },
    {
      "cell_type": "code",
      "source": [
        "# Define tokenization function\n",
        "def tokenize_func(examples):\n",
        "  max_input_length = 512\n",
        "  max_target_length = 30\n",
        "\n",
        "  model_inputs = tokenizer(examples['review_body'],\n",
        "                           max_length=max_input_length,\n",
        "                           truncation=True)\n",
        "\n",
        "  labels = tokenizer(examples['review_title'],\n",
        "                     max_length=max_target_length,\n",
        "                     truncation=True)\n",
        "  model_inputs['labels'] = labels['input_ids']\n",
        "  return model_inputs"
      ],
      "metadata": {
        "id": "uz35LiKLlZxy"
      },
      "execution_count": 14,
      "outputs": []
    },
    {
      "cell_type": "code",
      "source": [
        "tokenized_datasets = books_dataset.map(tokenize_func,\n",
        "                                       batched=True,\n",
        "                                       remove_columns=books_dataset[\"train\"].column_names)\n",
        "\n",
        "tokenized_datasets.set_format('torch')"
      ],
      "metadata": {
        "colab": {
          "base_uri": "https://localhost:8080/",
          "height": 113,
          "referenced_widgets": [
            "8bd7de60e7e54d879cd6bdc87b426c4b",
            "698adadc95ef497a90a0f2aceb4d14e6",
            "90d303ebf22e4d8a87f9cc84842b423a",
            "ef3e86f246ca4f04a308447e11786e2d",
            "60bdfde7668e46b9876091c3e61a8784",
            "aa750235c45749a48448630eacc1a5d3",
            "61b8962526214275ba10d04fd603c192",
            "e042bdc4859940be82d71690da90f4e5",
            "c5211a0601e84577a4fdbe5ab70a9117",
            "9bc5a53e1b464582806d1d1c24255b2a",
            "250150b0d45140f7b8a44b029879fb72",
            "2ad08cac803f47028aaaa1a1b3935a71",
            "bb15f542dcac49c5800909531ec2862e",
            "1126009f1e1d44eab0b4dbd3423d95af",
            "ec044269c19b466eae0545ef06056eab",
            "32e9782c8f9a4017987edbf1898ce5fe",
            "6ad4e0be8cca4f19b2edbeba6ac5f2ff",
            "a06a4306d4e446adb040261041516d22",
            "0d2e5f7899f84f8eb1031faba34babb3",
            "cf9c20f5ee834b4ba0ef9b7f756a0643",
            "1063ed338a5f4fd69c08f29f4feb95f9",
            "bfe6643939d14df7b8c8c64d662e3ff4",
            "b57c2a189d4b4b76bc64a1e76a5e504f",
            "ab384a92396b45ba91ea6e1d2f92744d",
            "ae2a5e2883644ddab948521a2a213b12",
            "efae94644c9548a5817b1d5b81fb93cf",
            "dc65cc0f5de14227ba335ca864c20f12",
            "5791486ee0a04622a2453c954fb45b84",
            "cec73715c93e432a8b5b9b99fedcf1b4",
            "e9315801c49446f0839777912e092a60",
            "58f8a537dc234d879d92b0b76b254606",
            "b199aaf03f634836bfe478d93c8a936b",
            "c390f0be3dc2408bb7fe11cac0924acd"
          ]
        },
        "id": "GaXpQoaEl8mE",
        "outputId": "1bff4de3-2d31-4292-f29e-ec13d11cf3dc"
      },
      "execution_count": 15,
      "outputs": [
        {
          "output_type": "display_data",
          "data": {
            "text/plain": [
              "Map:   0%|          | 0/9672 [00:00<?, ? examples/s]"
            ],
            "application/vnd.jupyter.widget-view+json": {
              "version_major": 2,
              "version_minor": 0,
              "model_id": "8bd7de60e7e54d879cd6bdc87b426c4b"
            }
          },
          "metadata": {}
        },
        {
          "output_type": "display_data",
          "data": {
            "text/plain": [
              "Map:   0%|          | 0/238 [00:00<?, ? examples/s]"
            ],
            "application/vnd.jupyter.widget-view+json": {
              "version_major": 2,
              "version_minor": 0,
              "model_id": "2ad08cac803f47028aaaa1a1b3935a71"
            }
          },
          "metadata": {}
        },
        {
          "output_type": "display_data",
          "data": {
            "text/plain": [
              "Map:   0%|          | 0/245 [00:00<?, ? examples/s]"
            ],
            "application/vnd.jupyter.widget-view+json": {
              "version_major": 2,
              "version_minor": 0,
              "model_id": "b57c2a189d4b4b76bc64a1e76a5e504f"
            }
          },
          "metadata": {}
        }
      ]
    },
    {
      "cell_type": "code",
      "source": [
        "tokenized_datasets"
      ],
      "metadata": {
        "colab": {
          "base_uri": "https://localhost:8080/"
        },
        "id": "Ct4Osj5Dl73H",
        "outputId": "6892dde0-5a97-4084-da50-8190ed0a3df0"
      },
      "execution_count": 16,
      "outputs": [
        {
          "output_type": "execute_result",
          "data": {
            "text/plain": [
              "DatasetDict({\n",
              "    train: Dataset({\n",
              "        features: ['input_ids', 'attention_mask', 'labels'],\n",
              "        num_rows: 9672\n",
              "    })\n",
              "    validation: Dataset({\n",
              "        features: ['input_ids', 'attention_mask', 'labels'],\n",
              "        num_rows: 238\n",
              "    })\n",
              "    test: Dataset({\n",
              "        features: ['input_ids', 'attention_mask', 'labels'],\n",
              "        num_rows: 245\n",
              "    })\n",
              "})"
            ]
          },
          "metadata": {},
          "execution_count": 16
        }
      ]
    },
    {
      "cell_type": "code",
      "source": [
        "tokenized_datasets['train'][:1]"
      ],
      "metadata": {
        "colab": {
          "base_uri": "https://localhost:8080/"
        },
        "id": "S_V7MHkdCvXe",
        "outputId": "464e0e81-3795-4cfa-8206-a7bcee71f7d6"
      },
      "execution_count": 17,
      "outputs": [
        {
          "output_type": "execute_result",
          "data": {
            "text/plain": [
              "{'input_ids': tensor([[  653,  1957,  1314,   261,  2757,  1280,   435,   259, 29166,   263,\n",
              "            269,   774,  5547,     1]]),\n",
              " 'attention_mask': tensor([[1, 1, 1, 1, 1, 1, 1, 1, 1, 1, 1, 1, 1, 1]]),\n",
              " 'labels': tensor([[ 298,  259, 5994,  269,  774, 5547,    1]])}"
            ]
          },
          "metadata": {},
          "execution_count": 17
        }
      ]
    },
    {
      "cell_type": "markdown",
      "source": [
        "### **Setup ROUGE metric**"
      ],
      "metadata": {
        "id": "P-WzRbk-43rP"
      }
    },
    {
      "cell_type": "code",
      "source": [
        "try:\n",
        "  from torchmetrics.text import ROUGEScore\n",
        "  rouge_fn = ROUGEScore()\n",
        "  print(f\"[INFO] ROUGE metric setup completed!\")\n",
        "except:\n",
        "  !pip install -q torchmetrics\n",
        "  from torchmetrics.text import ROUGEScore\n",
        "  rouge_fn = ROUGEScore()\n",
        "  print(f\"[INFO] ROUGE metric installed and setup completed!\")"
      ],
      "metadata": {
        "colab": {
          "base_uri": "https://localhost:8080/"
        },
        "id": "Sfx5jNqx463a",
        "outputId": "a3c5da48-29ae-4f74-c078-def9960cda55"
      },
      "execution_count": 18,
      "outputs": [
        {
          "output_type": "stream",
          "name": "stdout",
          "text": [
            "\u001b[?25l     \u001b[90m━━━━━━━━━━━━━━━━━━━━━━━━━━━━━━━━━━━━━━━━\u001b[0m \u001b[32m0.0/764.8 kB\u001b[0m \u001b[31m?\u001b[0m eta \u001b[36m-:--:--\u001b[0m\r\u001b[2K     \u001b[91m━━━━━━\u001b[0m\u001b[90m╺\u001b[0m\u001b[90m━━━━━━━━━━━━━━━━━━━━━━━━━━━━━━━━\u001b[0m \u001b[32m122.9/764.8 kB\u001b[0m \u001b[31m3.5 MB/s\u001b[0m eta \u001b[36m0:00:01\u001b[0m\r\u001b[2K     \u001b[91m━━━━━━━━━━━━━━━━━━━━━━━━\u001b[0m\u001b[91m╸\u001b[0m\u001b[90m━━━━━━━━━━━━━━\u001b[0m \u001b[32m481.3/764.8 kB\u001b[0m \u001b[31m7.0 MB/s\u001b[0m eta \u001b[36m0:00:01\u001b[0m\r\u001b[2K     \u001b[91m━━━━━━━━━━━━━━━━━━━━━━━━━━━━━━━━━━━━━━\u001b[0m\u001b[91m╸\u001b[0m \u001b[32m757.8/764.8 kB\u001b[0m \u001b[31m8.1 MB/s\u001b[0m eta \u001b[36m0:00:01\u001b[0m\r\u001b[2K     \u001b[90m━━━━━━━━━━━━━━━━━━━━━━━━━━━━━━━━━━━━━━━\u001b[0m \u001b[32m764.8/764.8 kB\u001b[0m \u001b[31m7.0 MB/s\u001b[0m eta \u001b[36m0:00:00\u001b[0m\n",
            "\u001b[?25h[INFO] ROUGE metric installed and setup completed!\n"
          ]
        }
      ]
    },
    {
      "cell_type": "markdown",
      "source": [
        "### **Setup lead-3 baseline**"
      ],
      "metadata": {
        "id": "87n8FmVc5oIn"
      }
    },
    {
      "cell_type": "code",
      "source": [
        "# Extract first 3 sentence from review body using nltk\n",
        "import nltk\n",
        "from nltk.tokenize import sent_tokenize\n",
        "\n",
        "nltk.download('punkt')\n",
        "\n",
        "def three_sentence_summary(text):\n",
        "    return type(\"\\n\".join(sent_tokenize(text)[:3]))\n",
        "\n",
        "print(three_sentence_summary(books_dataset[\"train\"][1][\"review_body\"]))"
      ],
      "metadata": {
        "colab": {
          "base_uri": "https://localhost:8080/"
        },
        "id": "-2wpRTBk5vHv",
        "outputId": "e0d215c4-c0e1-4ab8-dccb-1d3b3beb288e"
      },
      "execution_count": 19,
      "outputs": [
        {
          "output_type": "stream",
          "name": "stderr",
          "text": [
            "[nltk_data] Downloading package punkt to /root/nltk_data...\n",
            "[nltk_data]   Unzipping tokenizers/punkt.zip.\n"
          ]
        },
        {
          "output_type": "stream",
          "name": "stdout",
          "text": [
            "<class 'str'>\n"
          ]
        }
      ]
    },
    {
      "cell_type": "code",
      "source": [
        "# Setup function to create baseline\n",
        "import nltk\n",
        "from nltk.tokenize import sent_tokenize\n",
        "nltk.download('punkt')\n",
        "\n",
        "def evaluate_baseline(dataset,\n",
        "                      rouge_fn=rouge_fn):\n",
        "  \"\"\"\n",
        "  Function to create a ROUGE lead-3 baseline\n",
        "  \"\"\"\n",
        "  summaries = [\"\\n\".join(sent_tokenize(text)[:3]) for text in dataset['review_body']]\n",
        "  all_scores = rouge_fn(preds=summaries, target=dataset['review_title'])\n",
        "  f_measures = {k: round(v.item()*100, 2) for k, v in all_scores.items() if k.endswith('fmeasure')}\n",
        "  return f_measures"
      ],
      "metadata": {
        "colab": {
          "base_uri": "https://localhost:8080/"
        },
        "id": "CKRsZ0c28PVM",
        "outputId": "3d7537b8-cf65-4b94-9d9f-425010d4c392"
      },
      "execution_count": 20,
      "outputs": [
        {
          "output_type": "stream",
          "name": "stderr",
          "text": [
            "[nltk_data] Downloading package punkt to /root/nltk_data...\n",
            "[nltk_data]   Package punkt is already up-to-date!\n"
          ]
        }
      ]
    },
    {
      "cell_type": "code",
      "source": [
        "scores = evaluate_baseline(books_dataset['validation'], rouge_fn)\n",
        "scores"
      ],
      "metadata": {
        "colab": {
          "base_uri": "https://localhost:8080/"
        },
        "id": "RIar9TjG9Woo",
        "outputId": "1abae14c-4c78-435a-d17c-e6201da02719"
      },
      "execution_count": 21,
      "outputs": [
        {
          "output_type": "execute_result",
          "data": {
            "text/plain": [
              "{'rouge1_fmeasure': 16.82,\n",
              " 'rouge2_fmeasure': 8.89,\n",
              " 'rougeL_fmeasure': 15.57,\n",
              " 'rougeLsum_fmeasure': 16.0}"
            ]
          },
          "metadata": {},
          "execution_count": 21
        }
      ]
    },
    {
      "cell_type": "markdown",
      "source": [
        "### **Setup dataloaders**"
      ],
      "metadata": {
        "id": "6gV94LVtAWRJ"
      }
    },
    {
      "cell_type": "code",
      "source": [
        "# Setup data collator\n",
        "from transformers import AutoModelForSeq2SeqLM, DataCollatorForSeq2Seq\n",
        "\n",
        "tmp_model = AutoModelForSeq2SeqLM.from_pretrained(checkpoint)\n",
        "data_collator = DataCollatorForSeq2Seq(tokenizer=tokenizer,\n",
        "                                       model=tmp_model)"
      ],
      "metadata": {
        "colab": {
          "base_uri": "https://localhost:8080/",
          "height": 81,
          "referenced_widgets": [
            "a378961a1c01432b8a6c17d89506cb2b",
            "bbb07fbd4ed84f6fa3a10e14aa776ccb",
            "b9d6a6abfb6e47cda850f11bd0334e97",
            "75b1adb7280d42f6a2d6ccad5f9ce2d2",
            "4f4f866832064b91b46f61703ae49413",
            "ca1211da9e9e45489b81d27ca708f265",
            "aa6148fbf4924b55b23258b88bb9d5d4",
            "d81b209ec4874ba484c730e1d8c7460b",
            "5ebedf8103c9418a989667c4a3556ba4",
            "79a85805c8af4c38a68244c7c29d3086",
            "7d13d65d2a4b4064ba976e6bebe4cfa5",
            "f92f830e4e98435ea953907bcfdecd16",
            "cfafa2f1d85645c390153e70bcfe947d",
            "f5c5aacdd7c54282a23bf695d9132afe",
            "1384a05cb21d498193f043e7643dbada",
            "24b94afac4e5485b8418ebb9fbbfe835",
            "67f3d17f0e644434a9dafcf4a4e07c29",
            "df3c35daa8e44a529371dd7f3fe3b7eb",
            "40b4f978f2644d93b77b8395966deed2",
            "64f749e4843841b585ca24dea3ed6354",
            "b8b9ed92c6d14b5dbd456b18977e6264",
            "a314a1eaaf4e46df9c327911f3f309af"
          ]
        },
        "id": "DtvFnDhNA_oP",
        "outputId": "469bbcc5-ba28-46f9-b523-3e9b8715c1ac"
      },
      "execution_count": 22,
      "outputs": [
        {
          "output_type": "display_data",
          "data": {
            "text/plain": [
              "Downloading pytorch_model.bin:   0%|          | 0.00/1.20G [00:00<?, ?B/s]"
            ],
            "application/vnd.jupyter.widget-view+json": {
              "version_major": 2,
              "version_minor": 0,
              "model_id": "a378961a1c01432b8a6c17d89506cb2b"
            }
          },
          "metadata": {}
        },
        {
          "output_type": "display_data",
          "data": {
            "text/plain": [
              "Downloading (…)neration_config.json:   0%|          | 0.00/147 [00:00<?, ?B/s]"
            ],
            "application/vnd.jupyter.widget-view+json": {
              "version_major": 2,
              "version_minor": 0,
              "model_id": "f92f830e4e98435ea953907bcfdecd16"
            }
          },
          "metadata": {}
        }
      ]
    },
    {
      "cell_type": "code",
      "source": [
        "from torch.utils.data import DataLoader\n",
        "\n",
        "BATCH_SIZE = 8\n",
        "\n",
        "train_dataloader = DataLoader(dataset=tokenized_datasets['train'],\n",
        "                              batch_size=BATCH_SIZE,\n",
        "                              shuffle=True,\n",
        "                              collate_fn=data_collator)\n",
        "\n",
        "val_dataloader = DataLoader(dataset=tokenized_datasets['validation'],\n",
        "                            batch_size=BATCH_SIZE,\n",
        "                            shuffle=False,\n",
        "                            collate_fn=data_collator)\n",
        "\n",
        "test_dataloader = DataLoader(dataset=tokenized_datasets['test'],\n",
        "                             batch_size=BATCH_SIZE,\n",
        "                             shuffle=False,\n",
        "                             collate_fn=data_collator)\n",
        "\n",
        "len(train_dataloader), len(val_dataloader), len(test_dataloader)"
      ],
      "metadata": {
        "colab": {
          "base_uri": "https://localhost:8080/"
        },
        "id": "wy3ENnyiAY0-",
        "outputId": "c61018a9-3a95-4c4a-f1bf-eca758edaf21"
      },
      "execution_count": 23,
      "outputs": [
        {
          "output_type": "execute_result",
          "data": {
            "text/plain": [
              "(1209, 30, 31)"
            ]
          },
          "metadata": {},
          "execution_count": 23
        }
      ]
    },
    {
      "cell_type": "markdown",
      "source": [
        "### **Train and eval**"
      ],
      "metadata": {
        "id": "KGyxd4xnAAZH"
      }
    },
    {
      "cell_type": "markdown",
      "source": [
        "#### Setup training"
      ],
      "metadata": {
        "id": "iRmtSxJpAEPQ"
      }
    },
    {
      "cell_type": "code",
      "source": [
        "from transformers import AutoModelForSeq2SeqLM\n",
        "\n",
        "EPOCHS = 8\n",
        "LEARNING_RATE = 2e-5\n",
        "\n",
        "# Setup model on device\n",
        "model = AutoModelForSeq2SeqLM.from_pretrained(checkpoint).to(device)\n",
        "\n",
        "# Setup optimiser\n",
        "optimiser = torch.optim.AdamW(params=model.parameters(),\n",
        "                              lr=LEARNING_RATE)\n",
        "\n",
        "# Setup scheduler\n",
        "lr_scheduler = torch.optim.lr_scheduler.LinearLR(optimizer=optimiser)"
      ],
      "metadata": {
        "id": "Pb92iD3rAC7q"
      },
      "execution_count": 24,
      "outputs": []
    },
    {
      "cell_type": "markdown",
      "source": [
        "#### Explore model with torchinfo"
      ],
      "metadata": {
        "id": "OJa-JvrUFoQb"
      }
    },
    {
      "cell_type": "code",
      "source": [
        "try:\n",
        "  from torchinfo import summary\n",
        "except:\n",
        "  !pip install -q torchinfo\n",
        "  from torchinfo import summary\n",
        "\n",
        "summary(model)"
      ],
      "metadata": {
        "colab": {
          "base_uri": "https://localhost:8080/"
        },
        "id": "Mxw2kImDFlYd",
        "outputId": "82906a68-bc04-49a1-b2b9-62d6fb56d62a"
      },
      "execution_count": 25,
      "outputs": [
        {
          "output_type": "execute_result",
          "data": {
            "text/plain": [
              "=====================================================================================\n",
              "Layer (type:depth-idx)                                       Param #\n",
              "=====================================================================================\n",
              "MT5ForConditionalGeneration                                  --\n",
              "├─Embedding: 1-1                                             128,057,344\n",
              "├─MT5Stack: 1-2                                              128,057,344\n",
              "│    └─Embedding: 2-1                                        (recursive)\n",
              "│    └─ModuleList: 2-2                                       --\n",
              "│    │    └─MT5Block: 3-1                                    2,360,512\n",
              "│    │    └─MT5Block: 3-2                                    2,360,320\n",
              "│    │    └─MT5Block: 3-3                                    2,360,320\n",
              "│    │    └─MT5Block: 3-4                                    2,360,320\n",
              "│    │    └─MT5Block: 3-5                                    2,360,320\n",
              "│    │    └─MT5Block: 3-6                                    2,360,320\n",
              "│    │    └─MT5Block: 3-7                                    2,360,320\n",
              "│    │    └─MT5Block: 3-8                                    2,360,320\n",
              "│    └─MT5LayerNorm: 2-3                                     512\n",
              "│    └─Dropout: 2-4                                          --\n",
              "├─MT5Stack: 1-3                                              128,057,344\n",
              "│    └─Embedding: 2-5                                        (recursive)\n",
              "│    └─ModuleList: 2-6                                       --\n",
              "│    │    └─MT5Block: 3-9                                    3,147,456\n",
              "│    │    └─MT5Block: 3-10                                   3,147,264\n",
              "│    │    └─MT5Block: 3-11                                   3,147,264\n",
              "│    │    └─MT5Block: 3-12                                   3,147,264\n",
              "│    │    └─MT5Block: 3-13                                   3,147,264\n",
              "│    │    └─MT5Block: 3-14                                   3,147,264\n",
              "│    │    └─MT5Block: 3-15                                   3,147,264\n",
              "│    │    └─MT5Block: 3-16                                   3,147,264\n",
              "│    └─MT5LayerNorm: 2-7                                     512\n",
              "│    └─Dropout: 2-8                                          --\n",
              "├─Linear: 1-4                                                128,057,344\n",
              "=====================================================================================\n",
              "Total params: 556,291,456\n",
              "Trainable params: 556,291,456\n",
              "Non-trainable params: 0\n",
              "====================================================================================="
            ]
          },
          "metadata": {},
          "execution_count": 25
        }
      ]
    },
    {
      "cell_type": "markdown",
      "source": [
        "#### Train loop"
      ],
      "metadata": {
        "id": "vbRks5aQGj1N"
      }
    },
    {
      "cell_type": "code",
      "source": [
        "from tqdm.auto import tqdm\n",
        "\n",
        "train_loss = 0\n",
        "for epoch in tqdm(range(EPOCHS)):\n",
        "  for batch_num, batch in enumerate(train_dataloader):\n",
        "    # Send data to device\n",
        "    batch = {k: v.to(device) for k, v in batch.items()}\n",
        "\n",
        "    # Forward pass\n",
        "    outputs = model(**batch)\n",
        "\n",
        "    # Accumulate loss\n",
        "    loss = outputs.loss\n",
        "    train_loss += loss\n",
        "\n",
        "    # Zero gradients\n",
        "    optimiser.zero_grad()\n",
        "\n",
        "    # Backpropagate loss\n",
        "    loss.backward()\n",
        "\n",
        "    # Step optimiser and scheduler\n",
        "    optimiser.step()\n",
        "    lr_scheduler.step()\n",
        "\n",
        "    # Track where training is\n",
        "    if batch_num % 100 == 0:\n",
        "      print(f\"Epoch: {epoch+1} | Batch: {batch_num}\")\n",
        "\n",
        "  # Average loss across batches\n",
        "  train_loss /= len(train_dataloader)\n",
        "\n",
        "  # Print loss\n",
        "  print(f\"Epoch: {epoch+1} | Training loss: {train_loss:.4f}\")"
      ],
      "metadata": {
        "colab": {
          "base_uri": "https://localhost:8080/",
          "height": 1000,
          "referenced_widgets": [
            "df7e10a33ee34f38a5fabc85576e5a2f",
            "f1374b8981004c0ab43a7255a44cd909",
            "c444fd69727a4fc99ac42ff141d42089",
            "a8e090da710c42bcbed129f53025c4cf",
            "09d53ed739704db297824f4faf2abc48",
            "20ccf326311d4028b096a1ae9a8f8c87",
            "8e1905b693614343b5bce6369c90ba46",
            "624540dddc204d6a887b3191003d5432",
            "fc6503a4397946b090945cbadbd8b82b",
            "3698b91c26f4481da92d5a8d12f48992",
            "7cdff3e16b7b40e0a11768457f183e21"
          ]
        },
        "id": "4mEMM7lAGl2w",
        "outputId": "2795f54c-a1ef-427f-d763-254f2a8c24a9"
      },
      "execution_count": 26,
      "outputs": [
        {
          "output_type": "display_data",
          "data": {
            "text/plain": [
              "  0%|          | 0/8 [00:00<?, ?it/s]"
            ],
            "application/vnd.jupyter.widget-view+json": {
              "version_major": 2,
              "version_minor": 0,
              "model_id": "df7e10a33ee34f38a5fabc85576e5a2f"
            }
          },
          "metadata": {}
        },
        {
          "output_type": "stream",
          "name": "stderr",
          "text": [
            "You're using a T5TokenizerFast tokenizer. Please note that with a fast tokenizer, using the `__call__` method is faster than using a method to encode the text followed by a call to the `pad` method to get a padded encoding.\n"
          ]
        },
        {
          "output_type": "stream",
          "name": "stdout",
          "text": [
            "Epoch: 1 | Batch: 0\n",
            "Epoch: 1 | Batch: 100\n",
            "Epoch: 1 | Batch: 200\n",
            "Epoch: 1 | Batch: 300\n",
            "Epoch: 1 | Batch: 400\n",
            "Epoch: 1 | Batch: 500\n",
            "Epoch: 1 | Batch: 600\n",
            "Epoch: 1 | Batch: 700\n",
            "Epoch: 1 | Batch: 800\n",
            "Epoch: 1 | Batch: 900\n",
            "Epoch: 1 | Batch: 1000\n",
            "Epoch: 1 | Batch: 1100\n",
            "Epoch: 1 | Batch: 1200\n",
            "Epoch: 1 | Training loss: 6.8137\n",
            "Epoch: 2 | Batch: 0\n",
            "Epoch: 2 | Batch: 100\n",
            "Epoch: 2 | Batch: 200\n",
            "Epoch: 2 | Batch: 300\n",
            "Epoch: 2 | Batch: 400\n",
            "Epoch: 2 | Batch: 500\n",
            "Epoch: 2 | Batch: 600\n",
            "Epoch: 2 | Batch: 700\n",
            "Epoch: 2 | Batch: 800\n",
            "Epoch: 2 | Batch: 900\n",
            "Epoch: 2 | Batch: 1000\n",
            "Epoch: 2 | Batch: 1100\n",
            "Epoch: 2 | Batch: 1200\n",
            "Epoch: 2 | Training loss: 3.4874\n",
            "Epoch: 3 | Batch: 0\n",
            "Epoch: 3 | Batch: 100\n",
            "Epoch: 3 | Batch: 200\n",
            "Epoch: 3 | Batch: 300\n",
            "Epoch: 3 | Batch: 400\n",
            "Epoch: 3 | Batch: 500\n",
            "Epoch: 3 | Batch: 600\n",
            "Epoch: 3 | Batch: 700\n",
            "Epoch: 3 | Batch: 800\n",
            "Epoch: 3 | Batch: 900\n",
            "Epoch: 3 | Batch: 1000\n",
            "Epoch: 3 | Batch: 1100\n",
            "Epoch: 3 | Batch: 1200\n",
            "Epoch: 3 | Training loss: 3.0023\n",
            "Epoch: 4 | Batch: 0\n",
            "Epoch: 4 | Batch: 100\n",
            "Epoch: 4 | Batch: 200\n",
            "Epoch: 4 | Batch: 300\n",
            "Epoch: 4 | Batch: 400\n",
            "Epoch: 4 | Batch: 500\n",
            "Epoch: 4 | Batch: 600\n",
            "Epoch: 4 | Batch: 700\n",
            "Epoch: 4 | Batch: 800\n",
            "Epoch: 4 | Batch: 900\n",
            "Epoch: 4 | Batch: 1000\n",
            "Epoch: 4 | Batch: 1100\n",
            "Epoch: 4 | Batch: 1200\n",
            "Epoch: 4 | Training loss: 2.7993\n",
            "Epoch: 5 | Batch: 0\n",
            "Epoch: 5 | Batch: 100\n",
            "Epoch: 5 | Batch: 200\n",
            "Epoch: 5 | Batch: 300\n",
            "Epoch: 5 | Batch: 400\n",
            "Epoch: 5 | Batch: 500\n",
            "Epoch: 5 | Batch: 600\n",
            "Epoch: 5 | Batch: 700\n",
            "Epoch: 5 | Batch: 800\n",
            "Epoch: 5 | Batch: 900\n",
            "Epoch: 5 | Batch: 1000\n",
            "Epoch: 5 | Batch: 1100\n",
            "Epoch: 5 | Batch: 1200\n",
            "Epoch: 5 | Training loss: 2.6543\n",
            "Epoch: 6 | Batch: 0\n",
            "Epoch: 6 | Batch: 100\n",
            "Epoch: 6 | Batch: 200\n",
            "Epoch: 6 | Batch: 300\n",
            "Epoch: 6 | Batch: 400\n",
            "Epoch: 6 | Batch: 500\n",
            "Epoch: 6 | Batch: 600\n",
            "Epoch: 6 | Batch: 700\n",
            "Epoch: 6 | Batch: 800\n",
            "Epoch: 6 | Batch: 900\n",
            "Epoch: 6 | Batch: 1000\n",
            "Epoch: 6 | Batch: 1100\n",
            "Epoch: 6 | Batch: 1200\n",
            "Epoch: 6 | Training loss: 2.5152\n",
            "Epoch: 7 | Batch: 0\n",
            "Epoch: 7 | Batch: 100\n",
            "Epoch: 7 | Batch: 200\n",
            "Epoch: 7 | Batch: 300\n",
            "Epoch: 7 | Batch: 400\n",
            "Epoch: 7 | Batch: 500\n",
            "Epoch: 7 | Batch: 600\n",
            "Epoch: 7 | Batch: 700\n",
            "Epoch: 7 | Batch: 800\n",
            "Epoch: 7 | Batch: 900\n",
            "Epoch: 7 | Batch: 1000\n",
            "Epoch: 7 | Batch: 1100\n",
            "Epoch: 7 | Batch: 1200\n",
            "Epoch: 7 | Training loss: 2.3816\n",
            "Epoch: 8 | Batch: 0\n",
            "Epoch: 8 | Batch: 100\n",
            "Epoch: 8 | Batch: 200\n",
            "Epoch: 8 | Batch: 300\n",
            "Epoch: 8 | Batch: 400\n",
            "Epoch: 8 | Batch: 500\n",
            "Epoch: 8 | Batch: 600\n",
            "Epoch: 8 | Batch: 700\n",
            "Epoch: 8 | Batch: 800\n",
            "Epoch: 8 | Batch: 900\n",
            "Epoch: 8 | Batch: 1000\n",
            "Epoch: 8 | Batch: 1100\n",
            "Epoch: 8 | Batch: 1200\n",
            "Epoch: 8 | Training loss: 2.2328\n"
          ]
        }
      ]
    },
    {
      "cell_type": "markdown",
      "source": [
        "#### Define function to ROUGE metric"
      ],
      "metadata": {
        "id": "Q9kAkaxwK2vb"
      }
    },
    {
      "cell_type": "code",
      "source": [
        "import numpy as np\n",
        "import nltk\n",
        "from nltk.tokenize import sent_tokenize\n",
        "nltk.download('punkt')\n",
        "\n",
        "def process_for_rogue(preds:torch.tensor,\n",
        "                      labels:torch.tensor):\n",
        "  \"\"\"\n",
        "  Function to process preds and labels for ROUGE scores.\n",
        "  Args:\n",
        "    preds(torch.tensor): batch of predicted tokens from model.\n",
        "    labels(torch.tensor): batch of truth label tokens.\n",
        "  Returns:\n",
        "    Lists of decoded preds and labels for batch.\n",
        "  \"\"\"\n",
        "\n",
        "  # Convert tensors to numpy\n",
        "  preds = preds.cpu().numpy()\n",
        "  labels = labels.cpu().numpy()\n",
        "\n",
        "  # Decode tokens\n",
        "  decoded_preds = tokenizer.batch_decode(preds, skip_special_tokens=True)\n",
        "  labels = np.where(labels != -100, labels, tokenizer.pad_token_id)\n",
        "  decoded_labels = tokenizer.batch_decode(labels, skip_special_tokens=True)\n",
        "\n",
        "  # Setup for ROUGE\n",
        "  decoded_preds = [pred.strip() for pred in decoded_preds]\n",
        "  decoded_labels = [label.strip() for label in decoded_labels]\n",
        "  rouge_preds = [\"\\n\".join(nltk.sent_tokenize(pred)) for pred in decoded_preds]\n",
        "  rouge_labels = [[\"\\n\".join(nltk.sent_tokenize(label)) for label in decoded_labels]]\n",
        "\n",
        "  return rouge_preds, rouge_labels"
      ],
      "metadata": {
        "colab": {
          "base_uri": "https://localhost:8080/"
        },
        "id": "bBX3R2HjK60T",
        "outputId": "f674595f-8645-4e18-c5d1-42a8dc136231"
      },
      "execution_count": 41,
      "outputs": [
        {
          "output_type": "stream",
          "name": "stderr",
          "text": [
            "[nltk_data] Downloading package punkt to /root/nltk_data...\n",
            "[nltk_data]   Package punkt is already up-to-date!\n"
          ]
        }
      ]
    },
    {
      "cell_type": "markdown",
      "source": [
        "#### Eval loop function"
      ],
      "metadata": {
        "id": "b7bNLsn3NEqx"
      }
    },
    {
      "cell_type": "code",
      "source": [
        "def eval(model:torch.nn.Module,\n",
        "         dataloader:torch.utils.data.DataLoader,\n",
        "         device:torch.device,\n",
        "         process_for_rogue,\n",
        "         rouge_fn):\n",
        "  \"\"\"\n",
        "  Function that runs eval either on val_dataloader or test_dataloader\n",
        "  \"\"\"\n",
        "  val_loss = 0\n",
        "\n",
        "  rouge_fn = rouge_fn.to(device)\n",
        "  fmeasures_list = []\n",
        "  rouge1_fmeasure = 0\n",
        "  rouge2_fmeasure = 0\n",
        "  rougeL_fmeasure = 0\n",
        "  rougeLsum_fmeasure = 0\n",
        "\n",
        "  model.to(device)\n",
        "  model.eval()\n",
        "  with torch.inference_mode():\n",
        "    for batch_num, batch in enumerate(dataloader):\n",
        "      # Send data to device\n",
        "      batch = {k: v.to(device) for k, v in batch.items()}\n",
        "\n",
        "      # Forward pass, calculate loss\n",
        "      val_loss += model(**batch).loss\n",
        "\n",
        "      # Generate, calculate ROUGE\n",
        "      preds = model.generate(batch['input_ids'],\n",
        "                             attention_mask=batch['attention_mask'],\n",
        "                             max_length=30)\n",
        "      rouge_preds, rouge_labels = process_for_rogue(preds, batch['labels'])\n",
        "      batch_scores = rouge_fn(preds=rouge_preds, target=rouge_labels)\n",
        "      f_measures = {k: round(v.item()*100, 2) for k, v in batch_scores.items() if k.endswith('fmeasure')}\n",
        "      fmeasures_list.append(f_measures)\n",
        "\n",
        "      # Track eval loop\n",
        "      #if batch_num % 10 == 0:\n",
        "      #  print(f\"Batch: {batch_num}\")\n",
        "\n",
        "    # Average loss and fmeasures across batches\n",
        "    val_loss /= len(val_dataloader)\n",
        "    for fmeasures_dict in fmeasures_list:\n",
        "      rouge1_fmeasure += fmeasures_dict['rouge1_fmeasure']\n",
        "      rouge2_fmeasure += fmeasures_dict['rouge2_fmeasure']\n",
        "      rougeL_fmeasure += fmeasures_dict['rougeL_fmeasure']\n",
        "      rougeLsum_fmeasure += fmeasures_dict['rougeLsum_fmeasure']\n",
        "    rouge1_fmeasure /= len(dataloader)\n",
        "    rouge2_fmeasure /= len(dataloader)\n",
        "    rougeL_fmeasure /= len(dataloader)\n",
        "    rougeLsum_fmeasure /= len(dataloader)\n",
        "\n",
        "  # Print output\n",
        "  print(f\"Loss: {val_loss:.4f}\\n\")\n",
        "\n",
        "  print(f\"---Rouge f1 measures---\")\n",
        "  print(f\"rouge1_fmeasure = {rouge1_fmeasure:.4f}\")\n",
        "  print(f\"rouge2_fmeasure = {rouge2_fmeasure:.4f}\")\n",
        "  print(f\"rougeL_fmeasure = {rougeL_fmeasure:.4f}\")\n",
        "  print(f\"rougeLsum_fmeasure = {rougeLsum_fmeasure:.4f}\")"
      ],
      "metadata": {
        "id": "zbCr2CP0NFy4"
      },
      "execution_count": 53,
      "outputs": []
    },
    {
      "cell_type": "markdown",
      "source": [
        "#### Eval on validation dataset"
      ],
      "metadata": {
        "id": "6pOqEDlLzxw7"
      }
    },
    {
      "cell_type": "code",
      "source": [
        "eval(model=model,\n",
        "     dataloader=val_dataloader,\n",
        "     device=device,\n",
        "     process_for_rogue=process_for_rogue,\n",
        "     rouge_fn=rouge_fn)"
      ],
      "metadata": {
        "colab": {
          "base_uri": "https://localhost:8080/"
        },
        "id": "V6rfkSTVz0bW",
        "outputId": "da29c8df-a672-40db-83f1-ae84c23819ab"
      },
      "execution_count": 54,
      "outputs": [
        {
          "output_type": "stream",
          "name": "stdout",
          "text": [
            "Loss: 3.1098\n",
            "\n",
            "---Rouge f1 measures---\n",
            "rouge1_fmeasure = 24.6017\n",
            "rouge2_fmeasure = 7.0993\n",
            "rougeL_fmeasure = 22.9367\n",
            "rougeLsum_fmeasure = 22.9367\n"
          ]
        }
      ]
    },
    {
      "cell_type": "markdown",
      "source": [
        "#### Eval on test dataset"
      ],
      "metadata": {
        "id": "7Ri-JUB4z2Pj"
      }
    },
    {
      "cell_type": "code",
      "source": [
        "eval(model=model,\n",
        "     dataloader=test_dataloader,\n",
        "     device=device,\n",
        "     process_for_rogue=process_for_rogue,\n",
        "     rouge_fn=rouge_fn)"
      ],
      "metadata": {
        "colab": {
          "base_uri": "https://localhost:8080/"
        },
        "id": "Vb6pH0gCz30B",
        "outputId": "0bc6c7bc-69aa-4472-97df-099c300010bb"
      },
      "execution_count": 55,
      "outputs": [
        {
          "output_type": "stream",
          "name": "stdout",
          "text": [
            "Loss: 3.2337\n",
            "\n",
            "---Rouge f1 measures---\n",
            "rouge1_fmeasure = 22.0581\n",
            "rouge2_fmeasure = 5.1742\n",
            "rougeL_fmeasure = 20.0494\n",
            "rougeLsum_fmeasure = 20.0494\n"
          ]
        }
      ]
    },
    {
      "cell_type": "markdown",
      "source": [
        "### **Test model**"
      ],
      "metadata": {
        "id": "HtEACF5jxqMC"
      }
    },
    {
      "cell_type": "code",
      "source": [
        "text = \"The ball hit the splice a lot and sent a fizzing sensation up the handle and into the bottom hand, so I adapted at each session by playing softer and softer, later and later. I found it very difficult to get down the pitch and meet the ball as it landed and so persuaded myself to play back more. It occurred to me that a better player would manage the shimmy down the pitch with more skill and faster footwork, and that the good sweepers would have to take him on in the way that Kevin Pietersen managed so successfully on occasions.\"\n",
        "# text = \"Todo muy bien, cumple con lo esperado. Lo único malo es que: se calienta un poco y la batería no dura 8h. A una persona le ha parecido esto útil\"\n",
        "\n",
        "inputs = tokenizer(text,\n",
        "                   max_length=512,\n",
        "                   truncation=True,\n",
        "                   return_tensors='pt')\n",
        "\n",
        "inputs = {k: v.to(device) for k, v in inputs.items()}\n",
        "\n",
        "output = model.generate(inputs['input_ids'],\n",
        "                        attention_mask=inputs['attention_mask'],\n",
        "                        max_length=30)\n",
        "tokenizer.batch_decode(output, skip_special_tokens=True)"
      ],
      "metadata": {
        "colab": {
          "base_uri": "https://localhost:8080/"
        },
        "id": "4o14Ya3QxuYC",
        "outputId": "0b6189d4-351f-4532-e198-b997f0704cb8"
      },
      "execution_count": 69,
      "outputs": [
        {
          "output_type": "execute_result",
          "data": {
            "text/plain": [
              "['Very difficult to get down the pitch']"
            ]
          },
          "metadata": {},
          "execution_count": 69
        }
      ]
    },
    {
      "cell_type": "markdown",
      "source": [
        "### **Save model**"
      ],
      "metadata": {
        "id": "ND2yGI4306lK"
      }
    },
    {
      "cell_type": "code",
      "source": [
        "!git clone https://github.com/cswamy/pytorch"
      ],
      "metadata": {
        "colab": {
          "base_uri": "https://localhost:8080/"
        },
        "id": "I_vbjnOA08ZD",
        "outputId": "2985ac19-170c-43b8-be37-724fbf352164"
      },
      "execution_count": 75,
      "outputs": [
        {
          "output_type": "stream",
          "name": "stdout",
          "text": [
            "Cloning into 'pytorch'...\n",
            "remote: Enumerating objects: 92, done.\u001b[K\n",
            "remote: Counting objects: 100% (92/92), done.\u001b[K\n",
            "remote: Compressing objects: 100% (79/79), done.\u001b[K\n",
            "remote: Total 92 (delta 29), reused 31 (delta 8), pack-reused 0\u001b[K\n",
            "Receiving objects: 100% (92/92), 67.46 KiB | 776.00 KiB/s, done.\n",
            "Resolving deltas: 100% (29/29), done.\n"
          ]
        }
      ]
    },
    {
      "cell_type": "code",
      "source": [
        "from pytorch.scripts import utils\n",
        "utils.save_model(model=model,\n",
        "                 target_dir='models',\n",
        "                 model_name='mt5_amzn_enes_reviews_summarization.pth')"
      ],
      "metadata": {
        "colab": {
          "base_uri": "https://localhost:8080/"
        },
        "id": "BqsQcZrp1AnI",
        "outputId": "e925c4fd-c4e1-4921-ce95-cc9d56b33afe"
      },
      "execution_count": 76,
      "outputs": [
        {
          "output_type": "stream",
          "name": "stdout",
          "text": [
            "[INFO] Saving model to: models/mt5_amzn_enes_reviews_summarization.pth\n"
          ]
        }
      ]
    },
    {
      "cell_type": "markdown",
      "source": [
        "### **Deploy to hugging face**"
      ],
      "metadata": {
        "id": "qeZ5CvT10qi8"
      }
    },
    {
      "cell_type": "code",
      "source": [
        "from pathlib import Path\n",
        "\n",
        "# Create folders\n",
        "demo_path = Path(\"demos/mt5_amznreviews\")\n",
        "demo_path.mkdir(parents=True, exist_ok=True)"
      ],
      "metadata": {
        "id": "1lFeYjGh0szG"
      },
      "execution_count": 77,
      "outputs": []
    },
    {
      "cell_type": "code",
      "source": [
        "# Move model to demo folder\n",
        "!mv models/mt5_amzn_enes_reviews_summarization.pth demos/mt5_amznreviews"
      ],
      "metadata": {
        "id": "WdSOWzA6014N"
      },
      "execution_count": 78,
      "outputs": []
    },
    {
      "cell_type": "code",
      "source": [
        "%%writefile demos/mt5_amznreviews/model.py\n",
        "from transformers import AutoModelForSeq2SeqLM, AutoTokenizer\n",
        "\n",
        "def create_mt5_small():\n",
        "  \"\"\"\n",
        "  Initializes model and tokenizer.\n",
        "  \"\"\"\n",
        "  checkpoint = 'google/mt5-small'\n",
        "  tokenizer = AutoTokenizer.from_pretrained(checkpoint, return_tensors='pt')\n",
        "  model = AutoModelForSeq2SeqLM.from_pretrained(checkpoint)\n",
        "\n",
        "  return model, tokenizer"
      ],
      "metadata": {
        "colab": {
          "base_uri": "https://localhost:8080/"
        },
        "id": "_xX2L4421cFh",
        "outputId": "47e4d662-f53f-441c-fc94-6b16459ae094"
      },
      "execution_count": 79,
      "outputs": [
        {
          "output_type": "stream",
          "name": "stdout",
          "text": [
            "Writing demos/mt5_amznreviews/model.py\n"
          ]
        }
      ]
    },
    {
      "cell_type": "code",
      "source": [
        "%%writefile demos/mt5_amznreviews/app.py\n",
        "import torch\n",
        "import gradio as gr\n",
        "\n",
        "from model import create_mt5_small\n",
        "\n",
        "# Setup model and tokenizer\n",
        "model, tokenizer = create_mt5_small()\n",
        "\n",
        "# Load state dict from model\n",
        "model.load_state_dict(\n",
        "    torch.load(\n",
        "        f=\"mt5_amzn_enes_reviews_summarization.pth\",\n",
        "        map_location=torch.device(\"cpu\")\n",
        "    ))\n",
        "\n",
        "# Predict function\n",
        "def predict(text:str):\n",
        "\n",
        "  # Tokenize inputs and get model outputs\n",
        "  input = tokenizer(text,\n",
        "                    max_length=512,\n",
        "                    truncation=True,\n",
        "                    return_tensors='pt')\n",
        "  output_tokens = model.generate(input['input_ids'],\n",
        "                                 attention_mask=input['attention_mask'],\n",
        "                                 max_length=30)\n",
        "  output_text = tokenizer.batch_decode(output_tokens,\n",
        "                                       skip_special_tokens=True)\n",
        "\n",
        "  return output_text[0]\n",
        "\n",
        "# Create examples list\n",
        "examples_list = [\"The ball hit the splice a lot and sent a fizzing sensation up the handle and into the bottom hand, so I adapted at each session by playing softer and softer, later and later. I found it very difficult to get down the pitch and meet the ball as it landed and so persuaded myself to play back more. It occurred to me that a better player would manage the shimmy down the pitch with more skill and faster footwork, and that the good sweepers would have to take him on in the way that Kevin Pietersen managed so successfully on occasions.\",\n",
        "                 \"Todo muy bien, cumple con lo esperado. Lo único malo es que: se calienta un poco y la batería no dura 8h. A una persona le ha parecido esto útil\"]\n",
        "\n",
        "# Create gradio app\n",
        "title = \"Summarizer for English and Spanish inputs\"\n",
        "description = \"MT5-small model finetuned for summarization on English or Spanish text trained on the Amazon reviews dataset.\"\n",
        "\n",
        "demo = gr.Interface(fn=predict,\n",
        "                    inputs=gr.inputs.Textbox(label=\"Input\",\n",
        "                                             placeholder=\"Enter sentences here in English or Spanish...\"),\n",
        "                    outputs=\"text\",\n",
        "                    examples=examples_list,\n",
        "                    title=title,\n",
        "                    description=description)\n",
        "\n",
        "# Launch gradio\n",
        "demo.launch()"
      ],
      "metadata": {
        "colab": {
          "base_uri": "https://localhost:8080/"
        },
        "id": "6uyxYgne1q9P",
        "outputId": "b88bdac1-d9f3-409d-f975-155c864a790d"
      },
      "execution_count": 80,
      "outputs": [
        {
          "output_type": "stream",
          "name": "stdout",
          "text": [
            "Writing demos/mt5_amznreviews/app.py\n"
          ]
        }
      ]
    },
    {
      "cell_type": "code",
      "source": [
        "%%writefile demos/mt5_amznreviews/requirements.txt\n",
        "torch==1.12.0\n",
        "gradio==3.44.1\n",
        "transformers==4.33.1\n",
        "sentencepiece==0.1.99"
      ],
      "metadata": {
        "colab": {
          "base_uri": "https://localhost:8080/"
        },
        "id": "5pOuYKPp2ctO",
        "outputId": "a8eefa12-6b06-496c-c1b3-e57316e156d6"
      },
      "execution_count": 81,
      "outputs": [
        {
          "output_type": "stream",
          "name": "stdout",
          "text": [
            "Writing demos/mt5_amznreviews/requirements.txt\n"
          ]
        }
      ]
    },
    {
      "cell_type": "code",
      "source": [
        "!cd demos/mt5_amznreviews && zip -r ../mt5_amznreviews.zip *"
      ],
      "metadata": {
        "colab": {
          "base_uri": "https://localhost:8080/"
        },
        "id": "P_Jn3EZh2wjt",
        "outputId": "8f311f27-aa28-4471-da62-2905a16a872e"
      },
      "execution_count": 82,
      "outputs": [
        {
          "output_type": "stream",
          "name": "stdout",
          "text": [
            "  adding: app.py (deflated 54%)\n",
            "  adding: model.py (deflated 42%)\n",
            "  adding: mt5_amzn_enes_reviews_summarization.pth (deflated 24%)\n",
            "  adding: requirements.txt (deflated 6%)\n"
          ]
        }
      ]
    },
    {
      "cell_type": "code",
      "source": [
        "try:\n",
        "  from google.colab import files\n",
        "  files.download(\"demos/mt5_amznreviews.zip\")\n",
        "except:\n",
        "  print(f\"Download failed!\")"
      ],
      "metadata": {
        "id": "oZ6bkzzWeo_j"
      },
      "execution_count": null,
      "outputs": []
    }
  ]
}